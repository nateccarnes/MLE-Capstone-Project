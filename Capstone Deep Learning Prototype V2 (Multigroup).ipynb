{
 "cells": [
  {
   "cell_type": "markdown",
   "id": "db46a7f7",
   "metadata": {},
   "source": [
    "# Capstone Step 8 (20.5.1): Deep Learning Prototype"
   ]
  },
  {
   "cell_type": "code",
   "execution_count": 1,
   "id": "e933088f",
   "metadata": {},
   "outputs": [
    {
     "name": "stdout",
     "output_type": "stream",
     "text": [
      "Tensorflow Version 2.9.0\n"
     ]
    }
   ],
   "source": [
    "import tensorflow as tf\n",
    "from tensorflow import keras\n",
    "from tensorflow.keras import layers\n",
    "import numpy as np\n",
    "import pandas as pd\n",
    "\n",
    "from collections import Counter\n",
    "\n",
    "import matplotlib as mpl\n",
    "import matplotlib.pyplot as plt\n",
    "import seaborn as sns\n",
    "\n",
    "import sklearn\n",
    "from imblearn.under_sampling import RandomUnderSampler\n",
    "from sklearn.preprocessing import OrdinalEncoder\n",
    "from sklearn.metrics import confusion_matrix\n",
    "from sklearn.metrics import classification_report\n",
    "from sklearn.utils import class_weight\n",
    "from sklearn.metrics import roc_auc_score\n",
    "\n",
    "import warnings\n",
    "warnings.simplefilter(action='ignore', category=FutureWarning)\n",
    "warnings.simplefilter(action='ignore', category=UserWarning)\n",
    "print(f'Tensorflow Version {tf.__version__}')"
   ]
  },
  {
   "cell_type": "markdown",
   "id": "53890880",
   "metadata": {},
   "source": [
    "## Data Preparation"
   ]
  },
  {
   "cell_type": "markdown",
   "id": "030f4d97",
   "metadata": {},
   "source": [
    "I built a DL prototype with a binary outcome (i.e., whether or not a patient had been readmitted for the same reason). This model was relatively disappointing (accuracy = .77, precision = .19, recall = .43), so I am revising my approach. First, this DL prototype will have a multi-categorical outcome (i.e., no readmission, readmitted for the same reason, or readmitted for a different reason). Second, we will use the string variables that were omitted in the prior analyses and preprocess these variables using a TextVectorization layer. Third, we will simplify the primary diagnosis variable so that each patient is assigned to their parent diagnosis category. Hopefully these changes improve model performance.\n",
    "\n",
    "I will continue employing some strategies from prior analyses (assigning class weights and transforming skewed continuous features). However, we are not going to over-sample the minority class in this analysis because (1) it wasn't effective at improving model fit and (2) because it is difficult to implement with string variables. However, we will experiment with under-sampling in this analysis to see if it can improve model performance. We are not going to fix the initial bias because this cannot be easily implemented in multiclass classification."
   ]
  },
  {
   "cell_type": "code",
   "execution_count": 2,
   "id": "46da85b0",
   "metadata": {},
   "outputs": [],
   "source": [
    "modeling_df = pd.read_csv(r'D:\\MLE Capstone Project\\Data\\DL_data_prepared_multigroup.csv')"
   ]
  },
  {
   "cell_type": "code",
   "execution_count": 3,
   "id": "f9449229",
   "metadata": {},
   "outputs": [],
   "source": [
    "# We are going to test the code using a stratified sample of 16% of the data\n",
    "# We will remove this filter once the code is working as intended\n",
    "# modeling_df = modeling_df.groupby('Readmit', group_keys=False).apply(lambda x: x.sample(frac=0.16))"
   ]
  },
  {
   "cell_type": "markdown",
   "id": "babb57bb",
   "metadata": {},
   "source": [
    "Given the relatively low classification metrics observed in the exploratory phase, I chose to transform some of the heavily skewed continuous variables (all of which were positively skewed)."
   ]
  },
  {
   "cell_type": "code",
   "execution_count": 4,
   "id": "c7c43491",
   "metadata": {},
   "outputs": [],
   "source": [
    "# Transforming heavily positively skewed continuous variables\n",
    "modeling_df['Log_TOTCHG'] = np.log(modeling_df.pop('TOTCHG') + 1)\n",
    "modeling_df['Log_N_DISC_U'] = np.log(modeling_df.pop('N_DISC_U'))\n",
    "modeling_df['Log_N_HOSP_U'] = np.log(modeling_df.pop('N_HOSP_U'))\n",
    "modeling_df['Log_TOTAL_DISC'] = np.log(modeling_df.pop('TOTAL_DISC'))\n",
    "modeling_df['Log_LOS'] = np.log(modeling_df.pop('LOS') + 1)\n",
    "modeling_df['Log_I10_NPR'] = np.log(modeling_df.pop('I10_NPR') + 1)"
   ]
  },
  {
   "cell_type": "code",
   "execution_count": 5,
   "id": "a1a78e6c",
   "metadata": {},
   "outputs": [],
   "source": [
    "# Encoding the primary diagnosis variable\n",
    "encoder = OrdinalEncoder()\n",
    "feature = modeling_df.pop('Primary_dx').to_numpy().reshape(-1, 1)\n",
    "Primary_dx = encoder.fit_transform(feature)\n",
    "modeling_df['Primary_dx'] = Primary_dx"
   ]
  },
  {
   "cell_type": "code",
   "execution_count": 6,
   "id": "56e7a5d0",
   "metadata": {},
   "outputs": [],
   "source": [
    "# Changing dtypes to facilitate preprocessing in the next step\n",
    "Secondary_dx = modeling_df.pop('Secondary_dx')\n",
    "Procedure = modeling_df.pop('Procedure')\n",
    "MBD_dx = modeling_df.pop('MBD_dx')\n",
    "modeling_df = modeling_df.astype('float64')\n",
    "modeling_df['Secondary_dx'] = Secondary_dx\n",
    "modeling_df['Procedure'] = Procedure\n",
    "modeling_df['MBD_dx'] = MBD_dx"
   ]
  },
  {
   "cell_type": "code",
   "execution_count": 7,
   "id": "c9cfff91",
   "metadata": {},
   "outputs": [
    {
     "name": "stdout",
     "output_type": "stream",
     "text": [
      "502906 Training Examples\n",
      "62863 Validation Examples\n",
      "62864 Test Examples\n"
     ]
    }
   ],
   "source": [
    "# Creating training, validation, and test sets\n",
    "train, valid, test = np.split(modeling_df.sample(frac=1), [int(0.8*len(modeling_df)), int(0.9*len(modeling_df))])\n",
    "print(len(train), 'Training Examples')\n",
    "print(len(valid), 'Validation Examples')\n",
    "print(len(test), 'Test Examples')"
   ]
  },
  {
   "cell_type": "markdown",
   "id": "218392da",
   "metadata": {},
   "source": [
    "Given that we have imbalanced classes, and that this imbalance may have contributed to the poor performance in the prior analyses, we are going to perform under-sampling using the RandomUnderSampler method to lessen the class imbalance. This could be performed while training our model using a BalancedBatchGenerator, but we will implement it into the data processing pipeline here so that we can estimate the correct bias and class weights later. If this is ineffective, we will remove the under-sampling component from the data processing pipeline."
   ]
  },
  {
   "cell_type": "code",
   "execution_count": 8,
   "id": "5ed06847",
   "metadata": {},
   "outputs": [
    {
     "name": "stdout",
     "output_type": "stream",
     "text": [
      "The original training data is shape (502906, 31) and has Counter({0.0: 430521, 1.0: 46918, 2.0: 25467}) samples per class.\n",
      "The undersampled training data is shape (217155, 31) and has Counter({0.0: 144770, 1.0: 46918, 2.0: 25467}) samples per class.\n"
     ]
    }
   ],
   "source": [
    "# Performing under-sampling on the training data\n",
    "y = train.pop('Readmit')\n",
    "counter = Counter(y)\n",
    "print(f'The original training data is shape {train.shape} and has {Counter(y)} samples per class.')\n",
    "undersample = RandomUnderSampler(random_state=35, sampling_strategy={0.0:2*len(y[y != 0.0]),\n",
    "                                                                     1.0:len(y[y == 1.0]),\n",
    "                                                                     2.0:len(y[y == 2.0])})\n",
    "train_us, y_us = undersample.fit_resample(train, y)\n",
    "counter = Counter(y_us)\n",
    "print(f'The undersampled training data is shape {train_us.shape} and has {Counter(y_us)} samples per class.')\n",
    "# This seemed to be ineffective so I am not implementing it anymore below"
   ]
  },
  {
   "cell_type": "code",
   "execution_count": 9,
   "id": "7f927b7d",
   "metadata": {},
   "outputs": [],
   "source": [
    "# Adding the y variables back into their respective dataframes\n",
    "train['Readmit'] = y\n",
    "train_us['Readmit'] = y_us"
   ]
  },
  {
   "cell_type": "code",
   "execution_count": 10,
   "id": "d567a84d",
   "metadata": {},
   "outputs": [
    {
     "name": "stdout",
     "output_type": "stream",
     "text": [
      "<class 'pandas.core.frame.DataFrame'>\n",
      "Int64Index: 502906 entries, 621882 to 353842\n",
      "Data columns (total 32 columns):\n",
      " #   Column                 Non-Null Count   Dtype  \n",
      "---  ------                 --------------   -----  \n",
      " 0   APRDRG                 502906 non-null  float64\n",
      " 1   APRDRG_Risk_Mortality  502906 non-null  float64\n",
      " 2   APRDRG_Severity        502906 non-null  float64\n",
      " 3   HOSP_BEDSIZE           502906 non-null  float64\n",
      " 4   H_CONTRL               502906 non-null  float64\n",
      " 5   HOSP_URCAT4            502906 non-null  float64\n",
      " 6   HOSP_UR_TEACH          502906 non-null  float64\n",
      " 7   AGE                    502906 non-null  float64\n",
      " 8   DIED                   502906 non-null  float64\n",
      " 9   DISPUNIFORM            502906 non-null  float64\n",
      " 10  DMONTH                 502906 non-null  float64\n",
      " 11  ELECTIVE               502906 non-null  float64\n",
      " 12  FEMALE                 502906 non-null  float64\n",
      " 13  HCUP_ED                502906 non-null  float64\n",
      " 14  I10_NDX                502906 non-null  float64\n",
      " 15  PAY1                   502906 non-null  float64\n",
      " 16  PL_NCHS                502906 non-null  float64\n",
      " 17  REHABTRANSFER          502906 non-null  float64\n",
      " 18  RESIDENT               502906 non-null  float64\n",
      " 19  SAMEDAYEVENT           502906 non-null  float64\n",
      " 20  ZIPINC_QRTL            502906 non-null  float64\n",
      " 21  Log_TOTCHG             502906 non-null  float64\n",
      " 22  Log_N_DISC_U           502906 non-null  float64\n",
      " 23  Log_N_HOSP_U           502906 non-null  float64\n",
      " 24  Log_TOTAL_DISC         502906 non-null  float64\n",
      " 25  Log_LOS                502906 non-null  float64\n",
      " 26  Log_I10_NPR            502906 non-null  float64\n",
      " 27  Primary_dx             502906 non-null  float64\n",
      " 28  Secondary_dx           502906 non-null  object \n",
      " 29  Procedure              502906 non-null  object \n",
      " 30  MBD_dx                 502906 non-null  object \n",
      " 31  Readmit                502906 non-null  float64\n",
      "dtypes: float64(29), object(3)\n",
      "memory usage: 126.6+ MB\n"
     ]
    }
   ],
   "source": [
    "train.info()"
   ]
  },
  {
   "cell_type": "markdown",
   "id": "b626fcc6",
   "metadata": {},
   "source": [
    "## Data Preprocessing"
   ]
  },
  {
   "cell_type": "markdown",
   "id": "f2fef48f",
   "metadata": {},
   "source": [
    "The remaining data preprocessing will be conducted using Keras preprocessing layers."
   ]
  },
  {
   "cell_type": "code",
   "execution_count": 11,
   "id": "618e8547",
   "metadata": {},
   "outputs": [],
   "source": [
    "# Defining a helper function that converts pd.DataFrame objects into tf.data.Dataset objects, shuffles the data, and batches it\n",
    "def dataframe_to_dataset(dataframe, shuffle=True, batch_size=32):\n",
    "  df = dataframe.copy()\n",
    "  labels = df.pop('Readmit')\n",
    "  df = {key: value[:,tf.newaxis] for key, value in dataframe.items()}\n",
    "  ds = tf.data.Dataset.from_tensor_slices((dict(df), labels))\n",
    "  if shuffle:\n",
    "    ds = ds.shuffle(buffer_size=len(dataframe))\n",
    "  ds = ds.batch(batch_size)\n",
    "  ds = ds.prefetch(batch_size)\n",
    "  return ds"
   ]
  },
  {
   "cell_type": "code",
   "execution_count": 12,
   "id": "11306fac",
   "metadata": {},
   "outputs": [
    {
     "name": "stdout",
     "output_type": "stream",
     "text": [
      "Every feature: ['APRDRG', 'APRDRG_Risk_Mortality', 'APRDRG_Severity', 'HOSP_BEDSIZE', 'H_CONTRL', 'HOSP_URCAT4', 'HOSP_UR_TEACH', 'AGE', 'DIED', 'DISPUNIFORM', 'DMONTH', 'ELECTIVE', 'FEMALE', 'HCUP_ED', 'I10_NDX', 'PAY1', 'PL_NCHS', 'REHABTRANSFER', 'RESIDENT', 'SAMEDAYEVENT', 'ZIPINC_QRTL', 'Log_TOTCHG', 'Log_N_DISC_U', 'Log_N_HOSP_U', 'Log_TOTAL_DISC', 'Log_LOS', 'Log_I10_NPR', 'Primary_dx', 'Secondary_dx', 'Procedure', 'MBD_dx', 'Readmit']\n",
      "A batch of diagnoses: tf.Tensor(\n",
      "[[14.]\n",
      " [21.]\n",
      " [ 1.]\n",
      " [ 3.]\n",
      " [15.]], shape=(5, 1), dtype=float64)\n",
      "A batch of targets: tf.Tensor([0. 0. 2. 0. 0.], shape=(5,), dtype=float64)\n"
     ]
    }
   ],
   "source": [
    "# Checking the format of the data that the dataframe_to_dataset helper function returns\n",
    "# It returns a dictionary of column names that map to column values from rows\n",
    "batch_size = 5\n",
    "train_ds = dataframe_to_dataset(train, batch_size=batch_size)\n",
    "[(train_features, label_batch)] = train_ds.take(1)\n",
    "print('Every feature:', list(train_features.keys()))\n",
    "print('A batch of diagnoses:', train_features['Primary_dx'])\n",
    "print('A batch of targets:', label_batch)"
   ]
  },
  {
   "cell_type": "code",
   "execution_count": 13,
   "id": "7d9519c4",
   "metadata": {},
   "outputs": [],
   "source": [
    "# Defining a utility function to apply feature-wise normalization to continuous features\n",
    "def get_normalization_layer(name, dataset):\n",
    "  normalizer = layers.Normalization(axis=None)\n",
    "  feature_ds = dataset.map(lambda x, y: x[name])\n",
    "  normalizer.adapt(feature_ds)\n",
    "  return normalizer"
   ]
  },
  {
   "cell_type": "code",
   "execution_count": 14,
   "id": "1e502562",
   "metadata": {},
   "outputs": [
    {
     "data": {
      "text/plain": [
       "<tf.Tensor: shape=(5, 1), dtype=float32, numpy=\n",
       "array([[ 1.2398367 ],\n",
       "       [-0.8658569 ],\n",
       "       [-0.1675897 ],\n",
       "       [ 0.292347  ],\n",
       "       [-0.47261322]], dtype=float32)>"
      ]
     },
     "execution_count": 14,
     "metadata": {},
     "output_type": "execute_result"
    }
   ],
   "source": [
    "# Testing the get_normalization_layer utility function\n",
    "# This returns a Tensor layer with normalized values\n",
    "LOS_col = train_features['Log_LOS']\n",
    "test_layer = get_normalization_layer(name='Log_LOS', dataset=train_ds)\n",
    "test_layer(LOS_col)"
   ]
  },
  {
   "cell_type": "code",
   "execution_count": 15,
   "id": "96843a7a",
   "metadata": {},
   "outputs": [],
   "source": [
    "# Defining a utility function to apply feature-wise multi-hot encoding to categorical features\n",
    "# This function convert both strings and values to integer indices and then one hot encodes them\n",
    "def get_category_encoding_layer(name, dataset, dtype, max_tokens=None):\n",
    "  if dtype == 'string':\n",
    "    index = layers.StringLookup(max_tokens=max_tokens)\n",
    "  else:\n",
    "    index = layers.IntegerLookup(max_tokens=max_tokens)\n",
    "  feature_ds = dataset.map(lambda x, y: x[name])\n",
    "  index.adapt(feature_ds)\n",
    "  encoder = layers.CategoryEncoding(num_tokens=index.vocabulary_size())\n",
    "  return lambda feature: encoder(index(feature))"
   ]
  },
  {
   "cell_type": "code",
   "execution_count": 16,
   "id": "a4f1e25a",
   "metadata": {},
   "outputs": [
    {
     "data": {
      "text/plain": [
       "<tf.Tensor: shape=(5, 25), dtype=float32, numpy=\n",
       "array([[0., 0., 0., 1., 0., 0., 0., 0., 0., 0., 0., 0., 0., 0., 0., 0.,\n",
       "        0., 0., 0., 0., 0., 0., 0., 0., 0.],\n",
       "       [0., 0., 0., 0., 0., 0., 0., 0., 0., 0., 0., 1., 0., 0., 0., 0.,\n",
       "        0., 0., 0., 0., 0., 0., 0., 0., 0.],\n",
       "       [0., 1., 0., 0., 0., 0., 0., 0., 0., 0., 0., 0., 0., 0., 0., 0.,\n",
       "        0., 0., 0., 0., 0., 0., 0., 0., 0.],\n",
       "       [0., 0., 0., 0., 0., 0., 0., 0., 0., 1., 0., 0., 0., 0., 0., 0.,\n",
       "        0., 0., 0., 0., 0., 0., 0., 0., 0.],\n",
       "       [0., 0., 0., 0., 0., 1., 0., 0., 0., 0., 0., 0., 0., 0., 0., 0.,\n",
       "        0., 0., 0., 0., 0., 0., 0., 0., 0.]], dtype=float32)>"
      ]
     },
     "execution_count": 16,
     "metadata": {},
     "output_type": "execute_result"
    }
   ],
   "source": [
    "# Testing the get_category_encoding_layer utility function\n",
    "# This returns a Tensor layer with one hot encoded values\n",
    "DX_col = train_features['Primary_dx']\n",
    "test_layer = get_category_encoding_layer(name='Primary_dx',dataset=train_ds,dtype='float64')\n",
    "test_layer(DX_col)"
   ]
  },
  {
   "cell_type": "code",
   "execution_count": 17,
   "id": "445360ef",
   "metadata": {},
   "outputs": [],
   "source": [
    "# Defining a utility function to apply feature-wise text vectorization to string variables\n",
    "def get_vectorization_layer(name, dataset, output_mode='multi_hot'):\n",
    "  vectorizer = layers.TextVectorization(output_mode=output_mode)\n",
    "  feature_ds = dataset.map(lambda x, y: x[name])\n",
    "  vectorizer.adapt(feature_ds)\n",
    "  return vectorizer"
   ]
  },
  {
   "cell_type": "code",
   "execution_count": 18,
   "id": "85381255",
   "metadata": {},
   "outputs": [
    {
     "data": {
      "text/plain": [
       "<tf.Tensor: shape=(5, 4788), dtype=float32, numpy=\n",
       "array([[0., 0., 0., ..., 0., 0., 0.],\n",
       "       [0., 0., 0., ..., 0., 0., 0.],\n",
       "       [0., 1., 0., ..., 0., 0., 0.],\n",
       "       [0., 1., 0., ..., 0., 0., 0.],\n",
       "       [0., 0., 0., ..., 0., 0., 0.]], dtype=float32)>"
      ]
     },
     "execution_count": 18,
     "metadata": {},
     "output_type": "execute_result"
    }
   ],
   "source": [
    "# Testing the get_vectorization_layer utility function\n",
    "# This returns a tensor layer with one hot encoded values\n",
    "Procedure_col = train_features['Procedure']\n",
    "test_layer = get_vectorization_layer(name='Procedure',dataset=train_ds)\n",
    "test_layer(Procedure_col)"
   ]
  },
  {
   "cell_type": "code",
   "execution_count": 19,
   "id": "7e4f5052",
   "metadata": {},
   "outputs": [],
   "source": [
    "# Creating the data input pipeline\n",
    "batch_size = 512\n",
    "train_ds = dataframe_to_dataset(train, batch_size=batch_size)\n",
    "valid_ds = dataframe_to_dataset(valid, shuffle=False, batch_size=batch_size)\n",
    "test_ds = dataframe_to_dataset(test, shuffle=False, batch_size=batch_size)"
   ]
  },
  {
   "cell_type": "code",
   "execution_count": 20,
   "id": "07713a06",
   "metadata": {},
   "outputs": [],
   "source": [
    "# Container for processed features\n",
    "all_inputs = []\n",
    "encoded_features = []"
   ]
  },
  {
   "cell_type": "code",
   "execution_count": 21,
   "id": "25dd02bf",
   "metadata": {},
   "outputs": [],
   "source": [
    "# Continuous feature preprocessing layer\n",
    "continuous_features = ['APRDRG_Risk_Mortality','APRDRG_Severity','ZIPINC_QRTL','AGE','DMONTH','I10_NDX',\n",
    "                       'Log_TOTCHG','Log_N_DISC_U','Log_N_HOSP_U','Log_TOTAL_DISC','Log_LOS','Log_I10_NPR']\n",
    "for header in continuous_features:\n",
    "  cont_col = tf.keras.Input(shape=(1,), name=header)\n",
    "  normalization_layer = get_normalization_layer(name=header, dataset=train_ds)\n",
    "  encoded_cont_col = normalization_layer(cont_col)\n",
    "  all_inputs.append(cont_col)\n",
    "  encoded_features.append(encoded_cont_col)"
   ]
  },
  {
   "cell_type": "code",
   "execution_count": 22,
   "id": "cf83b1e3",
   "metadata": {},
   "outputs": [],
   "source": [
    "# Categorical feature preprocessing layer\n",
    "categorical_features = ['APRDRG','HOSP_BEDSIZE','H_CONTRL','HOSP_URCAT4','HOSP_UR_TEACH','DIED','DISPUNIFORM','ELECTIVE',\n",
    "                        'FEMALE','HCUP_ED','PAY1','PL_NCHS','REHABTRANSFER','RESIDENT','SAMEDAYEVENT','Primary_dx']\n",
    "for header in categorical_features:\n",
    "    cat_col = tf.keras.Input(shape=(1,), name=header, dtype='float64')\n",
    "    encoding_layer = get_category_encoding_layer(name=header, dataset=train_ds, dtype='float64')\n",
    "    encoded_cat_col = encoding_layer(cat_col)\n",
    "    all_inputs.append(cat_col)\n",
    "    encoded_features.append(encoded_cat_col)"
   ]
  },
  {
   "cell_type": "code",
   "execution_count": 23,
   "id": "76356635",
   "metadata": {},
   "outputs": [],
   "source": [
    "# Text feature preprocessing layer\n",
    "text_features = ['Secondary_dx','Procedure','MBD_dx']\n",
    "for header in text_features:\n",
    "    text_col = tf.keras.Input(shape=(1,), name=header, dtype='string')\n",
    "    vectorization_layer = get_vectorization_layer(name=header, dataset=train_ds)\n",
    "    encoded_text_col = vectorization_layer(text_col)\n",
    "    all_inputs.append(text_col)\n",
    "    encoded_features.append(encoded_text_col)"
   ]
  },
  {
   "cell_type": "markdown",
   "id": "e84460ca",
   "metadata": {},
   "source": [
    "## Create, Complile, and Train the DNN"
   ]
  },
  {
   "cell_type": "code",
   "execution_count": 24,
   "id": "295f1ae6",
   "metadata": {},
   "outputs": [],
   "source": [
    "# tf.keras.backend.clear_session()"
   ]
  },
  {
   "cell_type": "code",
   "execution_count": 25,
   "id": "b6ff9679",
   "metadata": {},
   "outputs": [],
   "source": [
    "# Defining a function to create and compile a DNN\n",
    "# Takes input, applies preprocessing layers, applies three hidden layers, and outputs probability per class\n",
    "# Saves accuracy metric for multi-classification because nothing else works\n",
    "my_metrics = [\n",
    "    keras.metrics.SparseCategoricalAccuracy(name='accuracy')\n",
    "]\n",
    "\n",
    "def make_model(inputs=all_inputs, encodings=encoded_features, metrics=my_metrics, output_bias=None):\n",
    "    if output_bias is not None:\n",
    "        output_bias = tf.keras.initializers.Constant(output_bias)    \n",
    "    \n",
    "    all_features = tf.keras.layers.concatenate(encodings)\n",
    "    Dense1 = tf.keras.layers.Dense(256, activation=\"relu\", kernel_initializer=\"glorot_normal\")(all_features)\n",
    "    Norm1 = tf.keras.layers.BatchNormalization()(Dense1)\n",
    "    Dropout1 = tf.keras.layers.Dropout(0.20)(Norm1)\n",
    "    Dense2 = tf.keras.layers.Dense(128, activation=\"relu\", kernel_initializer=\"glorot_normal\")(Dropout1)\n",
    "    Norm2 = tf.keras.layers.BatchNormalization()(Dense2)\n",
    "    Dropout2 = tf.keras.layers.Dropout(0.20)(Norm2)\n",
    "    Dense3 = tf.keras.layers.Dense(64, activation=\"relu\", kernel_initializer=\"glorot_normal\")(Dropout2)\n",
    "    Norm3 = tf.keras.layers.BatchNormalization()(Dense3)\n",
    "    Dropout3 = tf.keras.layers.Dropout(0.20)(Norm3)\n",
    "    output = tf.keras.layers.Dense(3, activation='softmax', bias_initializer=output_bias)(Dropout3)\n",
    "\n",
    "    model = tf.keras.Model(inputs, output)\n",
    "    model.compile(optimizer=tf.keras.optimizers.Adam(learning_rate=0.01),\n",
    "                  loss=tf.keras.losses.SparseCategoricalCrossentropy(),\n",
    "                  metrics=metrics)\n",
    "\n",
    "    return model"
   ]
  },
  {
   "cell_type": "code",
   "execution_count": 26,
   "id": "a06801d5",
   "metadata": {},
   "outputs": [
    {
     "data": {
      "text/plain": [
       "{0: 0.3893778313562714, 1: 3.572942864856416, 2: 6.582453109252497}"
      ]
     },
     "execution_count": 26,
     "metadata": {},
     "output_type": "execute_result"
    }
   ],
   "source": [
    "# Finding the correct class weights\n",
    "w0, w1, w2 = sklearn.utils.class_weight.compute_class_weight(class_weight='balanced',\n",
    "                                                             classes=np.unique(train['Readmit']),\n",
    "                                                             y=train['Readmit'])\n",
    "class_weights = {0:w0, 1:w1, 2:w2}\n",
    "class_weights"
   ]
  },
  {
   "cell_type": "code",
   "execution_count": 27,
   "id": "28f8ba53",
   "metadata": {},
   "outputs": [],
   "source": [
    "# Defining an early stopping rule\n",
    "early_stopping = tf.keras.callbacks.EarlyStopping(\n",
    "    monitor='val_accuracy', \n",
    "    verbose=1,\n",
    "    patience=10,\n",
    "    mode='max',\n",
    "    restore_best_weights=True)"
   ]
  },
  {
   "cell_type": "code",
   "execution_count": 28,
   "id": "00d70d7d",
   "metadata": {},
   "outputs": [
    {
     "name": "stdout",
     "output_type": "stream",
     "text": [
      "Epoch 1/50\n",
      "983/983 [==============================] - 543s 530ms/step - loss: 1.0107 - accuracy: 0.4272 - val_loss: 0.9176 - val_accuracy: 0.5228\n",
      "Epoch 2/50\n",
      "983/983 [==============================] - 595s 590ms/step - loss: 0.9801 - accuracy: 0.4371 - val_loss: 1.0941 - val_accuracy: 0.3385\n",
      "Epoch 3/50\n",
      "983/983 [==============================] - 624s 620ms/step - loss: 0.9713 - accuracy: 0.4335 - val_loss: 0.9159 - val_accuracy: 0.5255\n",
      "Epoch 4/50\n",
      "983/983 [==============================] - 629s 624ms/step - loss: 0.9638 - accuracy: 0.4387 - val_loss: 1.0108 - val_accuracy: 0.4104\n",
      "Epoch 5/50\n",
      "983/983 [==============================] - 654s 647ms/step - loss: 0.9562 - accuracy: 0.4424 - val_loss: 1.0017 - val_accuracy: 0.4222\n",
      "Epoch 6/50\n",
      "983/983 [==============================] - 648s 640ms/step - loss: 0.9489 - accuracy: 0.4433 - val_loss: 1.0179 - val_accuracy: 0.4113\n",
      "Epoch 7/50\n",
      "983/983 [==============================] - 641s 636ms/step - loss: 0.9415 - accuracy: 0.4460 - val_loss: 1.0084 - val_accuracy: 0.4095\n",
      "Epoch 8/50\n",
      "983/983 [==============================] - 652s 637ms/step - loss: 0.9315 - accuracy: 0.4502 - val_loss: 0.9941 - val_accuracy: 0.4271\n",
      "Epoch 9/50\n",
      "983/983 [==============================] - 711s 705ms/step - loss: 0.9231 - accuracy: 0.4550 - val_loss: 0.9414 - val_accuracy: 0.4737\n",
      "Epoch 10/50\n",
      "983/983 [==============================] - 704s 700ms/step - loss: 0.9133 - accuracy: 0.4575 - val_loss: 0.9678 - val_accuracy: 0.4752\n",
      "Epoch 11/50\n",
      "983/983 [==============================] - 736s 727ms/step - loss: 0.9012 - accuracy: 0.4596 - val_loss: 0.9752 - val_accuracy: 0.4370\n",
      "Epoch 12/50\n",
      "983/983 [==============================] - 690s 685ms/step - loss: 0.8923 - accuracy: 0.4610 - val_loss: 1.0523 - val_accuracy: 0.4103\n",
      "Epoch 13/50\n",
      "983/983 [==============================] - 670s 663ms/step - loss: 0.8816 - accuracy: 0.4667 - val_loss: 1.0056 - val_accuracy: 0.4366\n",
      "Epoch 14/50\n",
      "983/983 [==============================] - 671s 668ms/step - loss: 0.8735 - accuracy: 0.4697 - val_loss: 0.9783 - val_accuracy: 0.4406\n",
      "Epoch 15/50\n",
      "983/983 [==============================] - 676s 671ms/step - loss: 0.8651 - accuracy: 0.4694 - val_loss: 0.9894 - val_accuracy: 0.4246\n",
      "Epoch 16/50\n",
      "983/983 [==============================] - 694s 684ms/step - loss: 0.8558 - accuracy: 0.4739 - val_loss: 1.0221 - val_accuracy: 0.4199\n",
      "Epoch 17/50\n",
      "983/983 [==============================] - 745s 738ms/step - loss: 0.8476 - accuracy: 0.4774 - val_loss: 0.9415 - val_accuracy: 0.4841\n",
      "Epoch 18/50\n",
      "983/983 [==============================] - 749s 739ms/step - loss: 0.8396 - accuracy: 0.4789 - val_loss: 1.0607 - val_accuracy: 0.3861\n",
      "Epoch 19/50\n",
      "983/983 [==============================] - 741s 737ms/step - loss: 0.8307 - accuracy: 0.4845 - val_loss: 1.0485 - val_accuracy: 0.3916\n",
      "Epoch 20/50\n",
      "983/983 [==============================] - 739s 735ms/step - loss: 0.8251 - accuracy: 0.4845 - val_loss: 0.9906 - val_accuracy: 0.4411\n",
      "Epoch 21/50\n",
      "983/983 [==============================] - 754s 745ms/step - loss: 0.8175 - accuracy: 0.4884 - val_loss: 0.9631 - val_accuracy: 0.4760\n",
      "Epoch 22/50\n",
      "983/983 [==============================] - 761s 756ms/step - loss: 0.8110 - accuracy: 0.4910 - val_loss: 1.0080 - val_accuracy: 0.4322\n",
      "Epoch 23/50\n",
      "983/983 [==============================] - 761s 756ms/step - loss: 0.8059 - accuracy: 0.4926 - val_loss: 0.9288 - val_accuracy: 0.4881\n",
      "Epoch 24/50\n",
      "983/983 [==============================] - 762s 757ms/step - loss: 0.8024 - accuracy: 0.4946 - val_loss: 1.0052 - val_accuracy: 0.4536\n",
      "Epoch 25/50\n",
      "983/983 [==============================] - 772s 765ms/step - loss: 0.7944 - accuracy: 0.4989 - val_loss: 1.0368 - val_accuracy: 0.4137\n",
      "Epoch 26/50\n",
      "983/983 [==============================] - 772s 764ms/step - loss: 0.7901 - accuracy: 0.5004 - val_loss: 0.9866 - val_accuracy: 0.4592\n",
      "Epoch 27/50\n",
      "983/983 [==============================] - 773s 767ms/step - loss: 0.7856 - accuracy: 0.5000 - val_loss: 0.9389 - val_accuracy: 0.4824\n",
      "Epoch 28/50\n",
      "983/983 [==============================] - 776s 771ms/step - loss: 0.7822 - accuracy: 0.5020 - val_loss: 0.9786 - val_accuracy: 0.4754\n",
      "Epoch 29/50\n",
      "983/983 [==============================] - 785s 781ms/step - loss: 0.7764 - accuracy: 0.5031 - val_loss: 0.9676 - val_accuracy: 0.4658\n",
      "Epoch 30/50\n",
      "983/983 [==============================] - 798s 792ms/step - loss: 0.7733 - accuracy: 0.5071 - val_loss: 1.0129 - val_accuracy: 0.4493\n",
      "Epoch 31/50\n",
      "983/983 [==============================] - 3886s 4s/step - loss: 0.7692 - accuracy: 0.5072 - val_loss: 0.9640 - val_accuracy: 0.4734\n",
      "Epoch 32/50\n",
      "983/983 [==============================] - 759s 751ms/step - loss: 0.7652 - accuracy: 0.5102 - val_loss: 1.0806 - val_accuracy: 0.3894\n",
      "Epoch 33/50\n",
      "983/983 [==============================] - 718s 712ms/step - loss: 0.7627 - accuracy: 0.5087 - val_loss: 1.0323 - val_accuracy: 0.4369\n",
      "Epoch 34/50\n",
      "983/983 [==============================] - 726s 721ms/step - loss: 0.7608 - accuracy: 0.5103 - val_loss: 1.0357 - val_accuracy: 0.4417\n",
      "Epoch 35/50\n",
      "983/983 [==============================] - 738s 732ms/step - loss: 0.7544 - accuracy: 0.5117 - val_loss: 1.0081 - val_accuracy: 0.4391\n",
      "Epoch 36/50\n",
      "983/983 [==============================] - 792s 788ms/step - loss: 0.7514 - accuracy: 0.5139 - val_loss: 1.0003 - val_accuracy: 0.4884\n",
      "Epoch 37/50\n",
      "983/983 [==============================] - 827s 820ms/step - loss: 0.7496 - accuracy: 0.5149 - val_loss: 1.0555 - val_accuracy: 0.4100\n",
      "Epoch 38/50\n",
      "983/983 [==============================] - 1146s 1s/step - loss: 0.7468 - accuracy: 0.5158 - val_loss: 0.9695 - val_accuracy: 0.4811\n",
      "Epoch 39/50\n",
      "983/983 [==============================] - 1101s 1s/step - loss: 0.7416 - accuracy: 0.5164 - val_loss: 0.9816 - val_accuracy: 0.4661\n",
      "Epoch 40/50\n",
      "983/983 [==============================] - 1159s 1s/step - loss: 0.7400 - accuracy: 0.5176 - val_loss: 0.9801 - val_accuracy: 0.4708\n",
      "Epoch 41/50\n",
      "983/983 [==============================] - 1086s 1s/step - loss: 0.7382 - accuracy: 0.5196 - val_loss: 1.0636 - val_accuracy: 0.4235\n",
      "Epoch 42/50\n",
      "983/983 [==============================] - 1100s 1s/step - loss: 0.7361 - accuracy: 0.5212 - val_loss: 1.0564 - val_accuracy: 0.4202\n",
      "Epoch 43/50\n",
      "983/983 [==============================] - 1145s 1s/step - loss: 0.7303 - accuracy: 0.5221 - val_loss: 0.9931 - val_accuracy: 0.4819\n",
      "Epoch 44/50\n",
      "983/983 [==============================] - 1034s 1s/step - loss: 0.7308 - accuracy: 0.5222 - val_loss: 0.9545 - val_accuracy: 0.4960\n",
      "Epoch 45/50\n",
      "983/983 [==============================] - 1020s 1s/step - loss: 0.7265 - accuracy: 0.5239 - val_loss: 1.0457 - val_accuracy: 0.4379\n",
      "Epoch 46/50\n",
      "983/983 [==============================] - 8384s 8s/step - loss: 0.7254 - accuracy: 0.5240 - val_loss: 1.0560 - val_accuracy: 0.4217\n",
      "Epoch 47/50\n",
      "983/983 [==============================] - 819s 803ms/step - loss: 0.7228 - accuracy: 0.5253 - val_loss: 1.0429 - val_accuracy: 0.4328\n",
      "Epoch 48/50\n",
      "983/983 [==============================] - 810s 800ms/step - loss: 0.7204 - accuracy: 0.5259 - val_loss: 0.9338 - val_accuracy: 0.5092\n",
      "Epoch 49/50\n",
      "983/983 [==============================] - 795s 788ms/step - loss: 0.7182 - accuracy: 0.5291 - val_loss: 1.0655 - val_accuracy: 0.4615\n",
      "Epoch 50/50\n",
      "983/983 [==============================] - 801s 793ms/step - loss: 0.7165 - accuracy: 0.5278 - val_loss: 1.0981 - val_accuracy: 0.4312\n"
     ]
    }
   ],
   "source": [
    "# Fitting the model\n",
    "model = make_model()\n",
    "DNN_history = model.fit(\n",
    "    train_ds, \n",
    "    batch_size=1024, \n",
    "    epochs=35,\n",
    "    validation_data=valid_ds,\n",
    "    class_weight=class_weights)"
   ]
  },
  {
   "cell_type": "markdown",
   "id": "7708e38a",
   "metadata": {},
   "source": [
    "## Evaluate the Model"
   ]
  },
  {
   "cell_type": "code",
   "execution_count": 39,
   "id": "a7561153",
   "metadata": {},
   "outputs": [],
   "source": [
    "# Defining a function to visualize evaluation metrics on training and validation over epochs\n",
    "mpl.rcParams['figure.figsize'] = (12, 10)\n",
    "colors = plt.rcParams['axes.prop_cycle'].by_key()['color']\n",
    "def plot_metrics(history):\n",
    "  metrics = ['loss', 'accuracy']\n",
    "  for n, metric in enumerate(metrics):\n",
    "    name = metric.replace(\"_\",\" \").capitalize()\n",
    "    plt.subplot(1,2,n+1)\n",
    "    plt.plot(history.epoch, history.history[metric], color=colors[0], label='Train')\n",
    "    plt.plot(history.epoch, history.history['val_'+metric],\n",
    "             color=colors[0], linestyle=\"--\", label='Validate')\n",
    "    plt.xlabel('Epoch')\n",
    "    plt.ylabel(name)\n",
    "    if metric == 'loss':\n",
    "        plt.ylim([0.4,1.2])\n",
    "    else:\n",
    "        plt.ylim([0.2,0.8])\n",
    "    plt.xlim([1,50])\n",
    "    plt.xticks(ticks=range(0,51,5))\n",
    "    plt.legend();"
   ]
  },
  {
   "cell_type": "code",
   "execution_count": 40,
   "id": "f3e0adb1",
   "metadata": {},
   "outputs": [
    {
     "data": {
      "image/png": "[encoded data removed]",
      "text/plain": [
       "<Figure size 864x720 with 2 Axes>"
      ]
     },
     "metadata": {
      "needs_background": "light"
     },
     "output_type": "display_data"
    }
   ],
   "source": [
    "plot_metrics(DNN_history)"
   ]
  },
  {
   "cell_type": "code",
   "execution_count": 31,
   "id": "f2317ca8",
   "metadata": {},
   "outputs": [
    {
     "name": "stdout",
     "output_type": "stream",
     "text": [
      "983/983 [==============================] - 527s 507ms/step\n",
      "123/123 [==============================] - 10s 81ms/step\n",
      "123/123 [==============================] - 10s 82ms/step\n"
     ]
    }
   ],
   "source": [
    "# Generating model prediction probabilities\n",
    "train_predictions = model.predict(train_ds, batch_size=512)\n",
    "validate_predictions = model.predict(valid_ds, batch_size=512)\n",
    "test_predictions = model.predict(test_ds, batch_size=512)"
   ]
  },
  {
   "cell_type": "code",
   "execution_count": 32,
   "id": "a4fc7afc",
   "metadata": {},
   "outputs": [],
   "source": [
    "# Generating model prediction classes\n",
    "train_predict_class = np.argmax(train_predictions,axis=1)\n",
    "validate_predict_class = np.argmax(validate_predictions,axis=1)\n",
    "test_predict_class = np.argmax(test_predictions,axis=1)"
   ]
  },
  {
   "cell_type": "code",
   "execution_count": 33,
   "id": "883ebda9",
   "metadata": {},
   "outputs": [],
   "source": [
    "# Defining a function to visualize the confusion matrix\n",
    "def plot_cm(labels, predictions):\n",
    "  cm = confusion_matrix(labels, predictions)\n",
    "  plt.figure(figsize=(10,5))\n",
    "  sns.heatmap(cm, annot=True, fmt=\"d\")\n",
    "  plt.title('Confusion Matrix')\n",
    "  plt.ylabel('True Label')\n",
    "  plt.xlabel('Predicted Label')\n",
    "\n",
    "  print('No Readmission (TN): ', cm[0][0])\n",
    "  print('Readmission (TP): ', (cm[1][1] + cm[2][2]))\n",
    "  print('Readmission Incorrectly Detected (FP): ', (cm[0][1] + cm[0][2]))\n",
    "  print('Readmission Missed (FN): ', (cm[1][0] + cm[2][0]))\n",
    "  print('Readmission Misclassified (FP/FN): ', (cm[2][1] + cm[1][2]))"
   ]
  },
  {
   "cell_type": "code",
   "execution_count": 34,
   "id": "3d2b3da4",
   "metadata": {},
   "outputs": [
    {
     "name": "stdout",
     "output_type": "stream",
     "text": [
      "loss :  1.1040445566177368\n",
      "accuracy :  0.4288145899772644\n",
      "\n",
      "No Readmission (TN):  22197\n",
      "Readmission (TP):  4760\n",
      "Readmission Incorrectly Detected (FP):  31638\n",
      "Readmission Missed (FN):  1850\n",
      "Readmission Misclassified (FP/FN):  2419\n"
     ]
    },
    {
     "data": {
      "image/png": "[encoded data removed]",
      "text/plain": [
       "<Figure size 720x360 with 2 Axes>"
      ]
     },
     "metadata": {
      "needs_background": "light"
     },
     "output_type": "display_data"
    }
   ],
   "source": [
    "model_results = model.evaluate(test_ds, batch_size=512, verbose=0)\n",
    "for name, value in zip(model.metrics_names, model_results):\n",
    "  print(name, ': ', value)\n",
    "print()\n",
    "plot_cm(test['Readmit'], test_predict_class)"
   ]
  },
  {
   "cell_type": "code",
   "execution_count": 35,
   "id": "aeaf1232",
   "metadata": {},
   "outputs": [
    {
     "name": "stdout",
     "output_type": "stream",
     "text": [
      "              precision    recall  f1-score   support\n",
      "\n",
      "         0.0       0.92      0.41      0.57     53835\n",
      "         1.0       0.16      0.56      0.25      5854\n",
      "         2.0       0.08      0.47      0.14      3175\n",
      "\n",
      "    accuracy                           0.43     62864\n",
      "   macro avg       0.39      0.48      0.32     62864\n",
      "weighted avg       0.81      0.43      0.52     62864\n",
      "\n"
     ]
    }
   ],
   "source": [
    "# Generating class-wise evaluation metrics\n",
    "print(classification_report(test['Readmit'], test_predict_class))"
   ]
  },
  {
   "cell_type": "code",
   "execution_count": 36,
   "id": "2e22d2a5",
   "metadata": {},
   "outputs": [
    {
     "data": {
      "image/png": "[encoded data removed]",
      "text/plain": [
       "<Figure size 864x576 with 6 Axes>"
      ]
     },
     "metadata": {
      "needs_background": "light"
     },
     "output_type": "display_data"
    }
   ],
   "source": [
    "# Plotting one versus rest ROC curves\n",
    "def calculate_tpr_fpr(y_real, y_pred):\n",
    "    cm = confusion_matrix(y_real, y_pred)\n",
    "    TN = cm[0, 0]\n",
    "    FP = cm[0, 1]\n",
    "    FN = cm[1, 0]\n",
    "    TP = cm[1, 1]\n",
    "    tpr =  TP/(TP + FN)\n",
    "    fpr = 1 - TN/(TN+FP)\n",
    "    return tpr, fpr\n",
    "\n",
    "def get_all_roc_coordinates(y_real, y_proba):\n",
    "    tpr_list = [0]\n",
    "    fpr_list = [0]\n",
    "    for i in range(len(y_proba)):\n",
    "        threshold = y_proba[i]\n",
    "        y_pred = y_proba >= threshold\n",
    "        tpr, fpr = calculate_tpr_fpr(y_real, y_pred)\n",
    "        tpr_list.append(tpr)\n",
    "        fpr_list.append(fpr)\n",
    "    return tpr_list, fpr_list\n",
    "\n",
    "def plot_roc_curve(tpr, fpr, scatter = True, ax = None):\n",
    "    if ax == None:\n",
    "        plt.figure(figsize = (5, 5))\n",
    "        ax = plt.axes()\n",
    "    if scatter:\n",
    "        sns.scatterplot(x = fpr, y = tpr, ax = ax)\n",
    "    sns.lineplot(x = fpr, y = tpr, ax = ax)\n",
    "    sns.lineplot(x = [0, 1], y = [0, 1], color = 'green', ax = ax)\n",
    "    plt.xlim(-0.05, 1.05)\n",
    "    plt.ylim(-0.05, 1.05)\n",
    "    plt.xlabel(\"False Positive Rate\")\n",
    "    plt.ylabel(\"True Positive Rate\")\n",
    "\n",
    "plt.figure(figsize = (12, 8))\n",
    "bins = [i/20 for i in range(20)] + [1]\n",
    "classes = [0,1,2]\n",
    "roc_auc_ovr = {}\n",
    "for i in range(len(classes)):\n",
    "    c = classes[i]\n",
    "    \n",
    "    df_aux = test.copy()\n",
    "    df_aux['class'] = [1 if y == c else 0 for y in test['Readmit']]\n",
    "    df_aux['prob'] = test_predictions[:, i]\n",
    "    df_aux = df_aux.reset_index(drop = True)\n",
    "    \n",
    "    ax = plt.subplot(2, 3, i+1)\n",
    "    sns.histplot(x = \"prob\", data = df_aux, hue = 'class', color = 'b', ax = ax, bins = bins)\n",
    "    ax.set_title(c)\n",
    "    ax.legend([f\"Class: {c}\", \"Rest\"])\n",
    "    ax.set_xlabel(f\"P(x = {c})\")\n",
    "    \n",
    "    ax_bottom = plt.subplot(2, 3, i+4)\n",
    "    tpr, fpr = get_all_roc_coordinates(df_aux['class'], df_aux['prob'])\n",
    "    plot_roc_curve(tpr, fpr, scatter = False, ax = ax_bottom)\n",
    "    ax_bottom.set_title(\"ROC Curve OvR\")\n",
    "    \n",
    "    roc_auc_ovr[c] = roc_auc_score(df_aux['class'], df_aux['prob'])\n",
    "plt.tight_layout()"
   ]
  },
  {
   "cell_type": "code",
   "execution_count": 37,
   "id": "e2a6fba9",
   "metadata": {},
   "outputs": [
    {
     "name": "stderr",
     "output_type": "stream",
     "text": [
      "WARNING:absl:Function `_wrapped_model` contains input name(s) APRDRG_Risk_Mortality, APRDRG_Severity, ZIPINC_QRTL, AGE, DMONTH, I10_NDX, Log_TOTCHG, Log_N_DISC_U, Log_N_HOSP_U, Log_TOTAL_DISC, Log_LOS, Log_I10_NPR, APRDRG, HOSP_BEDSIZE, H_CONTRL, HOSP_URCAT4, HOSP_UR_TEACH, DIED, DISPUNIFORM, ELECTIVE, FEMALE, HCUP_ED, PAY1, PL_NCHS, REHABTRANSFER, RESIDENT, SAMEDAYEVENT, Primary_dx, Secondary_dx, Procedure, MBD_dx with unsupported characters which will be renamed to aprdrg_risk_mortality, aprdrg_severity, zipinc_qrtl, age, dmonth, i10_ndx, log_totchg, log_n_disc_u, log_n_hosp_u, log_total_disc, log_los, log_i10_npr, aprdrg, hosp_bedsize, h_contrl, hosp_urcat4, hosp_ur_teach, died, dispuniform, elective, female, hcup_ed, pay1, pl_nchs, rehabtransfer, resident, samedayevent, primary_dx, secondary_dx, procedure, mbd_dx in the SavedModel.\n"
     ]
    },
    {
     "name": "stdout",
     "output_type": "stream",
     "text": [
      "INFO:tensorflow:Assets written to: D:\\MLE Capstone Project\\Model_V2\\assets\n"
     ]
    },
    {
     "name": "stderr",
     "output_type": "stream",
     "text": [
      "INFO:tensorflow:Assets written to: D:\\MLE Capstone Project\\Model_V2\\assets\n"
     ]
    }
   ],
   "source": [
    "# Saving the model\n",
    "model.save('D:\\MLE Capstone Project\\Model_V2')"
   ]
  }
 ],
 "metadata": {
  "kernelspec": {
   "display_name": "Python 3 (ipykernel)",
   "language": "python",
   "name": "python3"
  },
  "language_info": {
   "codemirror_mode": {
    "name": "ipython",
    "version": 3
   },
   "file_extension": ".py",
   "mimetype": "text/x-python",
   "name": "python",
   "nbconvert_exporter": "python",
   "pygments_lexer": "ipython3",
   "version": "3.8.13"
  }
 },
 "nbformat": 4,
 "nbformat_minor": 5
}
