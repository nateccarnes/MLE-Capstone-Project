{
 "cells": [
  {
   "cell_type": "markdown",
   "id": "db46a7f7",
   "metadata": {},
   "source": [
    "# Capstone Step 8 (20.5.1): Deep Learning Prototype"
   ]
  },
  {
   "cell_type": "code",
   "execution_count": 1,
   "id": "e933088f",
   "metadata": {},
   "outputs": [
    {
     "name": "stdout",
     "output_type": "stream",
     "text": [
      "Tensorflow Version 2.9.0\n"
     ]
    }
   ],
   "source": [
    "import tensorflow as tf\n",
    "from tensorflow import keras\n",
    "from tensorflow.keras import layers\n",
    "import numpy as np\n",
    "import pandas as pd\n",
    "\n",
    "from collections import Counter\n",
    "\n",
    "import matplotlib as mpl\n",
    "import matplotlib.pyplot as plt\n",
    "import seaborn as sns\n",
    "\n",
    "import sklearn\n",
    "from imblearn.under_sampling import RandomUnderSampler\n",
    "from imblearn.over_sampling import SMOTENC\n",
    "from sklearn.preprocessing import OrdinalEncoder\n",
    "from sklearn.metrics import confusion_matrix\n",
    "from sklearn.metrics import classification_report\n",
    "from sklearn.utils import class_weight\n",
    "from sklearn.metrics import roc_auc_score\n",
    "\n",
    "import warnings\n",
    "warnings.simplefilter(action='ignore', category=FutureWarning)\n",
    "warnings.simplefilter(action='ignore', category=UserWarning)\n",
    "print(f'Tensorflow Version {tf.__version__}')"
   ]
  },
  {
   "cell_type": "markdown",
   "id": "53890880",
   "metadata": {},
   "source": [
    "## Data Preparation"
   ]
  },
  {
   "cell_type": "markdown",
   "id": "030f4d97",
   "metadata": {},
   "source": [
    "I built a DL prototype with a binary outcome (i.e., whether or not a patient had been readmitted for the same reason). This model was relatively disappointing (accuracy = .77, precision = .19, recall = .43). I then build a DL prototype with a multi-categorical outcome (i.e., whether or not a patient had been readmitted for the same reason or readmitted for a different reason). This model was also relatively disappointing (avg accuracy = .39, avg precision = .39, avg recall = .48). To improve model performance concerning class imbalance, I tried under-sampling, SMOTE, assigning class weights, fixing initial bias. I also revised my approach over time, simplifying the primary diagnosis variable so that each patient was assigned to their parent diagnosis category, transforming skewed continuous variables, and using string variables by preprocessing them with a TextVectorization layer in the model. I also experimented with different kernal initializers, layer architectures, optimizers, loss functions, activation functions, and numbers of epochs to optimize model performance. This third DL prototype will implement all of the above (at least in an experimental capacity) to generate the best possible model with a binary outcome. For this final DL prototype, the binary outcome will indicate whether or not a patient had been readmitted for any reason within 90 days of discharge from the hospital."
   ]
  },
  {
   "cell_type": "code",
   "execution_count": 2,
   "id": "46da85b0",
   "metadata": {},
   "outputs": [],
   "source": [
    "modeling_df = pd.read_csv(r'D:\\MLE Capstone Project\\Data\\DL_data_prepared_multigroup.csv')"
   ]
  },
  {
   "cell_type": "code",
   "execution_count": 3,
   "id": "60c630df",
   "metadata": {},
   "outputs": [
    {
     "data": {
      "text/plain": [
       "0    538211\n",
       "1     90422\n",
       "Name: Readmit, dtype: int64"
      ]
     },
     "execution_count": 3,
     "metadata": {},
     "output_type": "execute_result"
    }
   ],
   "source": [
    "# Combining readmissions for the same reason with readmissions for a different reason\n",
    "modeling_df['Readmit'] = np.where(modeling_df['Readmit'] == 2, 1, modeling_df['Readmit'])\n",
    "modeling_df['Readmit'].value_counts()"
   ]
  },
  {
   "cell_type": "code",
   "execution_count": 4,
   "id": "f9449229",
   "metadata": {},
   "outputs": [],
   "source": [
    "# We are going to test the code using a stratified sample of 8% of the data\n",
    "# We will remove this filter once the code is working as intended\n",
    "# modeling_df = modeling_df.groupby('Readmit', group_keys=False).apply(lambda x: x.sample(frac=0.08))"
   ]
  },
  {
   "cell_type": "code",
   "execution_count": 5,
   "id": "c7c43491",
   "metadata": {},
   "outputs": [],
   "source": [
    "# Transforming heavily positively skewed continuous variables\n",
    "modeling_df['Log_TOTCHG'] = np.log(modeling_df.pop('TOTCHG') + 1)\n",
    "modeling_df['Log_N_DISC_U'] = np.log(modeling_df.pop('N_DISC_U'))\n",
    "modeling_df['Log_N_HOSP_U'] = np.log(modeling_df.pop('N_HOSP_U'))\n",
    "modeling_df['Log_TOTAL_DISC'] = np.log(modeling_df.pop('TOTAL_DISC'))\n",
    "modeling_df['Log_LOS'] = np.log(modeling_df.pop('LOS') + 1)\n",
    "modeling_df['Log_I10_NPR'] = np.log(modeling_df.pop('I10_NPR') + 1)"
   ]
  },
  {
   "cell_type": "code",
   "execution_count": 6,
   "id": "a1a78e6c",
   "metadata": {},
   "outputs": [],
   "source": [
    "# Encoding the primary diagnosis variable\n",
    "encoder = OrdinalEncoder()\n",
    "feature = modeling_df.pop('Primary_dx').to_numpy().reshape(-1, 1)\n",
    "Primary_dx = encoder.fit_transform(feature)\n",
    "modeling_df['Primary_dx'] = Primary_dx"
   ]
  },
  {
   "cell_type": "code",
   "execution_count": 7,
   "id": "56e7a5d0",
   "metadata": {},
   "outputs": [],
   "source": [
    "# Changing dtypes to facilitate preprocessing with Keras layers\n",
    "Secondary_dx = modeling_df.pop('Secondary_dx')\n",
    "Procedure = modeling_df.pop('Procedure')\n",
    "MBD_dx = modeling_df.pop('MBD_dx')\n",
    "modeling_df = modeling_df.astype('float64')\n",
    "modeling_df['Secondary_dx'] = Secondary_dx\n",
    "modeling_df['Procedure'] = Procedure\n",
    "modeling_df['MBD_dx'] = MBD_dx"
   ]
  },
  {
   "cell_type": "code",
   "execution_count": 8,
   "id": "c9cfff91",
   "metadata": {},
   "outputs": [
    {
     "name": "stdout",
     "output_type": "stream",
     "text": [
      "502906 Training Examples\n",
      "62863 Validation Examples\n",
      "62864 Test Examples\n"
     ]
    }
   ],
   "source": [
    "# Creating training, validation, and test sets\n",
    "train, valid, test = np.split(modeling_df.sample(frac=1), [int(0.8*len(modeling_df)), int(0.9*len(modeling_df))])\n",
    "print(len(train), 'Training Examples')\n",
    "print(len(valid), 'Validation Examples')\n",
    "print(len(test), 'Test Examples')"
   ]
  },
  {
   "cell_type": "markdown",
   "id": "218392da",
   "metadata": {},
   "source": [
    "Given that we have imbalanced classes, and that this imbalance may have contributed to the poor performance in the prior analyses, we are going to experiment with under-sampling using the RandomUnderSampler method to lessen the class imbalance. If this method is ineffective, then it will be removed from the data preparation pipeline. The only way we can implement over-sampling (using the SMOTENC method for data with both continuous and categorical features) would be to remove the string features, so we aren't going to implement over-sampling currently."
   ]
  },
  {
   "cell_type": "code",
   "execution_count": 9,
   "id": "74d2163c",
   "metadata": {},
   "outputs": [],
   "source": [
    "# Performing SMOTE on the training data\n",
    "# categorical_features = [0,3,4,5,6,8,9,11,12,13,15,16,17,18,19,27]\n",
    "# y = train.pop('Readmit')\n",
    "# counter = Counter(y)\n",
    "# print(f'The original training data is shape {train.shape} and has {Counter(y)} samples per class.')\n",
    "# oversample = SMOTENC(random_state=35, categorical_features=categorical_features, sampling_strategy=0.25)\n",
    "# train_os, y_os = oversample.fit_resample(train, y)\n",
    "# counter = Counter(y_os)\n",
    "# print(f'The oversampled training data is shape {train_os.shape} and has {Counter(y_os)} samples per class.')"
   ]
  },
  {
   "cell_type": "code",
   "execution_count": 10,
   "id": "5ed06847",
   "metadata": {},
   "outputs": [],
   "source": [
    "# Performing under-sampling on the training data\n",
    "# y = train.pop('Readmit')\n",
    "# counter = Counter(y)\n",
    "# print(f'The original training data is shape {train.shape} and has {Counter(y)} samples per class.')\n",
    "# undersample = RandomUnderSampler(random_state=35, sampling_strategy=0.33)\n",
    "# train_us, y_us = undersample.fit_resample(train, y)\n",
    "# counter = Counter(y_us)\n",
    "# print(f'The undersampled training data is shape {train_us.shape} and has {Counter(y_us)} samples per class.')"
   ]
  },
  {
   "cell_type": "code",
   "execution_count": 11,
   "id": "7f927b7d",
   "metadata": {},
   "outputs": [],
   "source": [
    "# Adding the y variables back into their respective dataframes\n",
    "# train['Readmit'] = y\n",
    "# train_us['Readmit'] = y_us"
   ]
  },
  {
   "cell_type": "code",
   "execution_count": 12,
   "id": "d567a84d",
   "metadata": {},
   "outputs": [
    {
     "name": "stdout",
     "output_type": "stream",
     "text": [
      "<class 'pandas.core.frame.DataFrame'>\n",
      "Int64Index: 502906 entries, 105149 to 238917\n",
      "Data columns (total 32 columns):\n",
      " #   Column                 Non-Null Count   Dtype  \n",
      "---  ------                 --------------   -----  \n",
      " 0   APRDRG                 502906 non-null  float64\n",
      " 1   APRDRG_Risk_Mortality  502906 non-null  float64\n",
      " 2   APRDRG_Severity        502906 non-null  float64\n",
      " 3   HOSP_BEDSIZE           502906 non-null  float64\n",
      " 4   H_CONTRL               502906 non-null  float64\n",
      " 5   HOSP_URCAT4            502906 non-null  float64\n",
      " 6   HOSP_UR_TEACH          502906 non-null  float64\n",
      " 7   AGE                    502906 non-null  float64\n",
      " 8   DIED                   502906 non-null  float64\n",
      " 9   DISPUNIFORM            502906 non-null  float64\n",
      " 10  DMONTH                 502906 non-null  float64\n",
      " 11  ELECTIVE               502906 non-null  float64\n",
      " 12  FEMALE                 502906 non-null  float64\n",
      " 13  HCUP_ED                502906 non-null  float64\n",
      " 14  I10_NDX                502906 non-null  float64\n",
      " 15  PAY1                   502906 non-null  float64\n",
      " 16  PL_NCHS                502906 non-null  float64\n",
      " 17  REHABTRANSFER          502906 non-null  float64\n",
      " 18  RESIDENT               502906 non-null  float64\n",
      " 19  SAMEDAYEVENT           502906 non-null  float64\n",
      " 20  ZIPINC_QRTL            502906 non-null  float64\n",
      " 21  Readmit                502906 non-null  float64\n",
      " 22  Log_TOTCHG             502906 non-null  float64\n",
      " 23  Log_N_DISC_U           502906 non-null  float64\n",
      " 24  Log_N_HOSP_U           502906 non-null  float64\n",
      " 25  Log_TOTAL_DISC         502906 non-null  float64\n",
      " 26  Log_LOS                502906 non-null  float64\n",
      " 27  Log_I10_NPR            502906 non-null  float64\n",
      " 28  Primary_dx             502906 non-null  float64\n",
      " 29  Secondary_dx           502906 non-null  object \n",
      " 30  Procedure              502906 non-null  object \n",
      " 31  MBD_dx                 502906 non-null  object \n",
      "dtypes: float64(29), object(3)\n",
      "memory usage: 126.6+ MB\n"
     ]
    }
   ],
   "source": [
    "train.info()"
   ]
  },
  {
   "cell_type": "markdown",
   "id": "b626fcc6",
   "metadata": {},
   "source": [
    "## Data Preprocessing"
   ]
  },
  {
   "cell_type": "markdown",
   "id": "f2fef48f",
   "metadata": {},
   "source": [
    "The remaining data preprocessing will be conducted using Keras preprocessing layers."
   ]
  },
  {
   "cell_type": "code",
   "execution_count": 13,
   "id": "618e8547",
   "metadata": {},
   "outputs": [],
   "source": [
    "# Defining a helper function that converts pd.DataFrame objects into tf.data.Dataset objects, shuffles the data, and batches it\n",
    "def dataframe_to_dataset(dataframe, shuffle=True, batch_size=32):\n",
    "  df = dataframe.copy()\n",
    "  labels = df.pop('Readmit')\n",
    "  df = {key: value[:,tf.newaxis] for key, value in dataframe.items()}\n",
    "  ds = tf.data.Dataset.from_tensor_slices((dict(df), labels))\n",
    "  if shuffle:\n",
    "    ds = ds.shuffle(buffer_size=len(dataframe))\n",
    "  ds = ds.batch(batch_size)\n",
    "  ds = ds.prefetch(batch_size)\n",
    "  return ds"
   ]
  },
  {
   "cell_type": "code",
   "execution_count": 14,
   "id": "11306fac",
   "metadata": {},
   "outputs": [
    {
     "name": "stdout",
     "output_type": "stream",
     "text": [
      "Every feature: ['APRDRG', 'APRDRG_Risk_Mortality', 'APRDRG_Severity', 'HOSP_BEDSIZE', 'H_CONTRL', 'HOSP_URCAT4', 'HOSP_UR_TEACH', 'AGE', 'DIED', 'DISPUNIFORM', 'DMONTH', 'ELECTIVE', 'FEMALE', 'HCUP_ED', 'I10_NDX', 'PAY1', 'PL_NCHS', 'REHABTRANSFER', 'RESIDENT', 'SAMEDAYEVENT', 'ZIPINC_QRTL', 'Readmit', 'Log_TOTCHG', 'Log_N_DISC_U', 'Log_N_HOSP_U', 'Log_TOTAL_DISC', 'Log_LOS', 'Log_I10_NPR', 'Primary_dx', 'Secondary_dx', 'Procedure', 'MBD_dx']\n",
      "A batch of diagnoses: tf.Tensor(\n",
      "[[ 2.]\n",
      " [ 0.]\n",
      " [14.]\n",
      " [14.]\n",
      " [ 0.]], shape=(5, 1), dtype=float64)\n",
      "A batch of targets: tf.Tensor([0. 1. 0. 0. 0.], shape=(5,), dtype=float64)\n"
     ]
    }
   ],
   "source": [
    "# Checking the format of the data that the dataframe_to_dataset helper function returns\n",
    "# It returns a dictionary of column names that map to column values from rows\n",
    "batch_size = 5\n",
    "train_ds = dataframe_to_dataset(train, batch_size=batch_size)\n",
    "[(train_features, label_batch)] = train_ds.take(1)\n",
    "print('Every feature:', list(train_features.keys()))\n",
    "print('A batch of diagnoses:', train_features['Primary_dx'])\n",
    "print('A batch of targets:', label_batch)"
   ]
  },
  {
   "cell_type": "code",
   "execution_count": 15,
   "id": "7d9519c4",
   "metadata": {},
   "outputs": [],
   "source": [
    "# Defining a utility function to apply feature-wise normalization to continuous features\n",
    "def get_normalization_layer(name, dataset):\n",
    "  normalizer = layers.Normalization(axis=None)\n",
    "  feature_ds = dataset.map(lambda x, y: x[name])\n",
    "  normalizer.adapt(feature_ds)\n",
    "  return normalizer"
   ]
  },
  {
   "cell_type": "code",
   "execution_count": 16,
   "id": "1e502562",
   "metadata": {},
   "outputs": [
    {
     "data": {
      "text/plain": [
       "<tf.Tensor: shape=(5, 1), dtype=float32, numpy=\n",
       "array([[ 0.47521508],\n",
       "       [-1.4211789 ],\n",
       "       [-0.16773066],\n",
       "       [-0.47298196],\n",
       "       [ 0.29254952]], dtype=float32)>"
      ]
     },
     "execution_count": 16,
     "metadata": {},
     "output_type": "execute_result"
    }
   ],
   "source": [
    "# Testing the get_normalization_layer utility function\n",
    "# This returns a Tensor layer with normalized values\n",
    "LOS_col = train_features['Log_LOS']\n",
    "test_layer = get_normalization_layer(name='Log_LOS', dataset=train_ds)\n",
    "test_layer(LOS_col)"
   ]
  },
  {
   "cell_type": "code",
   "execution_count": 17,
   "id": "96843a7a",
   "metadata": {},
   "outputs": [],
   "source": [
    "# Defining a utility function to apply feature-wise multi-hot encoding to categorical features\n",
    "# This function convert both strings and values to integer indices and then one hot encodes them\n",
    "def get_category_encoding_layer(name, dataset, dtype, max_tokens=None):\n",
    "  if dtype == 'string':\n",
    "    index = layers.StringLookup(max_tokens=max_tokens)\n",
    "  else:\n",
    "    index = layers.IntegerLookup(max_tokens=max_tokens)\n",
    "  feature_ds = dataset.map(lambda x, y: x[name])\n",
    "  index.adapt(feature_ds)\n",
    "  encoder = layers.CategoryEncoding(num_tokens=index.vocabulary_size())\n",
    "  return lambda feature: encoder(index(feature))"
   ]
  },
  {
   "cell_type": "code",
   "execution_count": 18,
   "id": "a4f1e25a",
   "metadata": {},
   "outputs": [
    {
     "data": {
      "text/plain": [
       "<tf.Tensor: shape=(5, 25), dtype=float32, numpy=\n",
       "array([[0., 0., 0., 0., 1., 0., 0., 0., 0., 0., 0., 0., 0., 0., 0., 0.,\n",
       "        0., 0., 0., 0., 0., 0., 0., 0., 0.],\n",
       "       [0., 0., 1., 0., 0., 0., 0., 0., 0., 0., 0., 0., 0., 0., 0., 0.,\n",
       "        0., 0., 0., 0., 0., 0., 0., 0., 0.],\n",
       "       [0., 0., 0., 1., 0., 0., 0., 0., 0., 0., 0., 0., 0., 0., 0., 0.,\n",
       "        0., 0., 0., 0., 0., 0., 0., 0., 0.],\n",
       "       [0., 0., 0., 1., 0., 0., 0., 0., 0., 0., 0., 0., 0., 0., 0., 0.,\n",
       "        0., 0., 0., 0., 0., 0., 0., 0., 0.],\n",
       "       [0., 0., 1., 0., 0., 0., 0., 0., 0., 0., 0., 0., 0., 0., 0., 0.,\n",
       "        0., 0., 0., 0., 0., 0., 0., 0., 0.]], dtype=float32)>"
      ]
     },
     "execution_count": 18,
     "metadata": {},
     "output_type": "execute_result"
    }
   ],
   "source": [
    "# Testing the get_category_encoding_layer utility function\n",
    "# This returns a Tensor layer with one hot encoded values\n",
    "DX_col = train_features['Primary_dx']\n",
    "test_layer = get_category_encoding_layer(name='Primary_dx',dataset=train_ds,dtype='float64')\n",
    "test_layer(DX_col)"
   ]
  },
  {
   "cell_type": "code",
   "execution_count": 19,
   "id": "445360ef",
   "metadata": {},
   "outputs": [],
   "source": [
    "# Defining a utility function to apply feature-wise text vectorization to string variables\n",
    "def get_vectorization_layer(name, dataset, output_mode='multi_hot'):\n",
    "  vectorizer = layers.TextVectorization(output_mode=output_mode)\n",
    "  feature_ds = dataset.map(lambda x, y: x[name])\n",
    "  vectorizer.adapt(feature_ds)\n",
    "  return vectorizer"
   ]
  },
  {
   "cell_type": "code",
   "execution_count": 20,
   "id": "85381255",
   "metadata": {},
   "outputs": [
    {
     "data": {
      "text/plain": [
       "<tf.Tensor: shape=(5, 4756), dtype=float32, numpy=\n",
       "array([[0., 1., 0., ..., 0., 0., 0.],\n",
       "       [0., 1., 0., ..., 0., 0., 0.],\n",
       "       [0., 0., 1., ..., 0., 0., 0.],\n",
       "       [0., 0., 1., ..., 0., 0., 0.],\n",
       "       [0., 1., 0., ..., 0., 0., 0.]], dtype=float32)>"
      ]
     },
     "execution_count": 20,
     "metadata": {},
     "output_type": "execute_result"
    }
   ],
   "source": [
    "# Testing the get_vectorization_layer utility function\n",
    "# This returns a tensor layer with one hot encoded values\n",
    "Procedure_col = train_features['Procedure']\n",
    "test_layer = get_vectorization_layer(name='Procedure',dataset=train_ds)\n",
    "test_layer(Procedure_col)"
   ]
  },
  {
   "cell_type": "code",
   "execution_count": 21,
   "id": "7e4f5052",
   "metadata": {},
   "outputs": [],
   "source": [
    "# Creating the data input pipeline\n",
    "batch_size = 512\n",
    "train_ds = dataframe_to_dataset(train, batch_size=batch_size)\n",
    "valid_ds = dataframe_to_dataset(valid, shuffle=False, batch_size=batch_size)\n",
    "test_ds = dataframe_to_dataset(test, shuffle=False, batch_size=batch_size)"
   ]
  },
  {
   "cell_type": "code",
   "execution_count": 22,
   "id": "07713a06",
   "metadata": {},
   "outputs": [],
   "source": [
    "# Container for processed features\n",
    "all_inputs = []\n",
    "encoded_features = []"
   ]
  },
  {
   "cell_type": "code",
   "execution_count": 23,
   "id": "25dd02bf",
   "metadata": {},
   "outputs": [],
   "source": [
    "# Continuous feature preprocessing layer\n",
    "continuous_features = ['APRDRG_Risk_Mortality','APRDRG_Severity','ZIPINC_QRTL','AGE','DMONTH','I10_NDX',\n",
    "                       'Log_TOTCHG','Log_N_DISC_U','Log_N_HOSP_U','Log_TOTAL_DISC','Log_LOS','Log_I10_NPR']\n",
    "for header in continuous_features:\n",
    "  cont_col = tf.keras.Input(shape=(1,), name=header)\n",
    "  normalization_layer = get_normalization_layer(name=header, dataset=train_ds)\n",
    "  encoded_cont_col = normalization_layer(cont_col)\n",
    "  all_inputs.append(cont_col)\n",
    "  encoded_features.append(encoded_cont_col)"
   ]
  },
  {
   "cell_type": "code",
   "execution_count": 24,
   "id": "cf83b1e3",
   "metadata": {},
   "outputs": [],
   "source": [
    "# Categorical feature preprocessing layer\n",
    "categorical_features = ['APRDRG','HOSP_BEDSIZE','H_CONTRL','HOSP_URCAT4','HOSP_UR_TEACH','DIED','DISPUNIFORM','ELECTIVE',\n",
    "                        'FEMALE','HCUP_ED','PAY1','PL_NCHS','REHABTRANSFER','RESIDENT','SAMEDAYEVENT','Primary_dx']\n",
    "for header in categorical_features:\n",
    "    cat_col = tf.keras.Input(shape=(1,), name=header, dtype='float64')\n",
    "    encoding_layer = get_category_encoding_layer(name=header, dataset=train_ds, dtype='float64')\n",
    "    encoded_cat_col = encoding_layer(cat_col)\n",
    "    all_inputs.append(cat_col)\n",
    "    encoded_features.append(encoded_cat_col)"
   ]
  },
  {
   "cell_type": "code",
   "execution_count": 25,
   "id": "76356635",
   "metadata": {},
   "outputs": [],
   "source": [
    "# Text feature preprocessing layer\n",
    "text_features = ['Secondary_dx','Procedure','MBD_dx']\n",
    "for header in text_features:\n",
    "    text_col = tf.keras.Input(shape=(1,), name=header, dtype='string')\n",
    "    vectorization_layer = get_vectorization_layer(name=header, dataset=train_ds)\n",
    "    encoded_text_col = vectorization_layer(text_col)\n",
    "    all_inputs.append(text_col)\n",
    "    encoded_features.append(encoded_text_col)"
   ]
  },
  {
   "cell_type": "markdown",
   "id": "e84460ca",
   "metadata": {},
   "source": [
    "## Create, Complile, and Train the DNN"
   ]
  },
  {
   "cell_type": "code",
   "execution_count": 26,
   "id": "295f1ae6",
   "metadata": {},
   "outputs": [],
   "source": [
    "# tf.keras.backend.clear_session()"
   ]
  },
  {
   "cell_type": "code",
   "execution_count": 27,
   "id": "b6ff9679",
   "metadata": {},
   "outputs": [],
   "source": [
    "# Defining a function to create and compile a DNN\n",
    "# Takes input, applies preprocessing layers, applies four hidden layers, and outputs probability\n",
    "# Saves binary classification metrics\n",
    "my_metrics = [\n",
    "      keras.metrics.TruePositives(name='tp'),\n",
    "      keras.metrics.FalsePositives(name='fp'),\n",
    "      keras.metrics.TrueNegatives(name='tn'),\n",
    "      keras.metrics.FalseNegatives(name='fn'), \n",
    "      keras.metrics.BinaryAccuracy(name='accuracy'),\n",
    "      keras.metrics.Precision(name='precision'),\n",
    "      keras.metrics.Recall(name='recall'),\n",
    "      keras.metrics.AUC(name='auc'),\n",
    "      keras.metrics.AUC(name='prc',curve='PR')\n",
    "]\n",
    "\n",
    "def make_model(inputs=all_inputs, encodings=encoded_features, metrics=my_metrics, output_bias=None):\n",
    "    if output_bias is not None:\n",
    "        output_bias = tf.keras.initializers.Constant(output_bias)\n",
    "    initializer = tf.keras.initializers.HeUniform()\n",
    "    \n",
    "    all_features = tf.keras.layers.concatenate(encodings)\n",
    "    Dense1 = tf.keras.layers.Dense(256, activation=\"relu\", kernel_initializer=initializer)(all_features)\n",
    "    Norm1 = tf.keras.layers.BatchNormalization()(Dense1)\n",
    "    Dropout1 = tf.keras.layers.Dropout(0.5)(Norm1)\n",
    "    \n",
    "    Dense2 = tf.keras.layers.Dense(128, activation=\"relu\", kernel_initializer=initializer)(Dropout1)\n",
    "    Norm2 = tf.keras.layers.BatchNormalization()(Dense2)\n",
    "    Dropout2 = tf.keras.layers.Dropout(0.5)(Norm2)\n",
    "    \n",
    "    Dense3 = tf.keras.layers.Dense(64, activation=\"relu\", kernel_initializer=initializer)(Dropout2)\n",
    "    Norm3 = tf.keras.layers.BatchNormalization()(Dense3)\n",
    "    Dropout3 = tf.keras.layers.Dropout(0.5)(Norm3)\n",
    "    \n",
    "    Dense4 = tf.keras.layers.Dense(32, activation=\"relu\", kernel_initializer=initializer)(Dropout3)\n",
    "    Norm4 = tf.keras.layers.BatchNormalization()(Dense4)\n",
    "    Dropout4 = tf.keras.layers.Dropout(0.5)(Norm4)\n",
    "\n",
    "    output = tf.keras.layers.Dense(1, activation=\"sigmoid\", bias_initializer=output_bias)(Dropout4)\n",
    "\n",
    "    model = tf.keras.Model(inputs, output)\n",
    "    model.compile(optimizer=tf.keras.optimizers.Adam(learning_rate=0.005),\n",
    "                  loss=tf.keras.losses.BinaryCrossentropy(),\n",
    "                  metrics=metrics)\n",
    "\n",
    "    return model"
   ]
  },
  {
   "cell_type": "code",
   "execution_count": 30,
   "id": "a06801d5",
   "metadata": {},
   "outputs": [
    {
     "data": {
      "text/plain": [
       "{0: 0.5839934970678744, 1: 3.4764208983699936}"
      ]
     },
     "execution_count": 30,
     "metadata": {},
     "output_type": "execute_result"
    }
   ],
   "source": [
    "# Finding the correct class weights\n",
    "w0, w1 = sklearn.utils.class_weight.compute_class_weight(class_weight='balanced',\n",
    "                                                         classes=np.unique(train['Readmit']),\n",
    "                                                         y=train['Readmit'])\n",
    "class_weights = {0:w0, 1:w1}\n",
    "class_weights"
   ]
  },
  {
   "cell_type": "code",
   "execution_count": 31,
   "id": "1af8fd33",
   "metadata": {},
   "outputs": [
    {
     "name": "stdout",
     "output_type": "stream",
     "text": [
      "Examples:\n",
      " Total: 502906\n",
      " Readmission: 72331 (14.38% of total)\n",
      "The initial bias should be set to [-1.78386872]\n"
     ]
    }
   ],
   "source": [
    "# Finding the correct initial bias\n",
    "neg, pos = np.bincount(train['Readmit'])\n",
    "total = neg + pos\n",
    "initial_bias = np.log([pos/neg])\n",
    "initial_bias\n",
    "print('Examples:\\n Total: {}\\n Readmission: {} ({:.2f}% of total)'.format(total, pos, 100 * pos / total))\n",
    "print(f'The initial bias should be set to {initial_bias}')"
   ]
  },
  {
   "cell_type": "code",
   "execution_count": 32,
   "id": "28f8ba53",
   "metadata": {},
   "outputs": [],
   "source": [
    "# Defining an early stopping rule\n",
    "early_stopping = tf.keras.callbacks.EarlyStopping(\n",
    "    monitor='val_loss', \n",
    "    verbose=1,\n",
    "    patience=10,\n",
    "    mode='max',\n",
    "    restore_best_weights=True)"
   ]
  },
  {
   "cell_type": "code",
   "execution_count": 33,
   "id": "00d70d7d",
   "metadata": {},
   "outputs": [
    {
     "name": "stdout",
     "output_type": "stream",
     "text": [
      "Epoch 1/30\n",
      "983/983 [==============================] - 579s 573ms/step - loss: 0.6719 - tp: 42551.0000 - fp: 169220.0000 - tn: 261355.0000 - fn: 29780.0000 - accuracy: 0.6043 - precision: 0.2009 - recall: 0.5883 - auc: 0.6376 - prc: 0.2095 - val_loss: 0.6325 - val_tp: 6115.0000 - val_fp: 22560.0000 - val_tn: 31258.0000 - val_fn: 2930.0000 - val_accuracy: 0.5945 - val_precision: 0.2133 - val_recall: 0.6761 - val_auc: 0.6809 - val_prc: 0.2519\n",
      "Epoch 2/30\n",
      "983/983 [==============================] - 640s 634ms/step - loss: 0.6415 - tp: 48190.0000 - fp: 176943.0000 - tn: 253632.0000 - fn: 24141.0000 - accuracy: 0.6002 - precision: 0.2141 - recall: 0.6662 - auc: 0.6734 - prc: 0.2351 - val_loss: 0.6272 - val_tp: 5781.0000 - val_fp: 20614.0000 - val_tn: 33204.0000 - val_fn: 3264.0000 - val_accuracy: 0.6202 - val_precision: 0.2190 - val_recall: 0.6391 - val_auc: 0.6819 - val_prc: 0.2529\n",
      "Epoch 3/30\n",
      "983/983 [==============================] - 695s 689ms/step - loss: 0.6363 - tp: 49421.0000 - fp: 179506.0000 - tn: 251069.0000 - fn: 22910.0000 - accuracy: 0.5975 - precision: 0.2159 - recall: 0.6833 - auc: 0.6815 - prc: 0.2429 - val_loss: 0.6477 - val_tp: 6602.0000 - val_fp: 25181.0000 - val_tn: 28637.0000 - val_fn: 2443.0000 - val_accuracy: 0.5606 - val_precision: 0.2077 - val_recall: 0.7299 - val_auc: 0.6829 - val_prc: 0.2529\n",
      "Epoch 4/30\n",
      "983/983 [==============================] - 704s 698ms/step - loss: 0.6338 - tp: 49625.0000 - fp: 176627.0000 - tn: 253948.0000 - fn: 22706.0000 - accuracy: 0.6036 - precision: 0.2193 - recall: 0.6861 - auc: 0.6861 - prc: 0.2470 - val_loss: 0.6526 - val_tp: 6494.0000 - val_fp: 24606.0000 - val_tn: 29212.0000 - val_fn: 2551.0000 - val_accuracy: 0.5680 - val_precision: 0.2088 - val_recall: 0.7180 - val_auc: 0.6828 - val_prc: 0.2526\n",
      "Epoch 5/30\n",
      "983/983 [==============================] - 723s 722ms/step - loss: 0.6315 - tp: 50444.0000 - fp: 180663.0000 - tn: 249912.0000 - fn: 21887.0000 - accuracy: 0.5972 - precision: 0.2183 - recall: 0.6974 - auc: 0.6891 - prc: 0.2499 - val_loss: 0.5824 - val_tp: 5609.0000 - val_fp: 19428.0000 - val_tn: 34390.0000 - val_fn: 3436.0000 - val_accuracy: 0.6363 - val_precision: 0.2240 - val_recall: 0.6201 - val_auc: 0.6840 - val_prc: 0.2563\n",
      "Epoch 6/30\n",
      "983/983 [==============================] - 766s 751ms/step - loss: 0.6300 - tp: 50543.0000 - fp: 180253.0000 - tn: 250322.0000 - fn: 21788.0000 - accuracy: 0.5983 - precision: 0.2190 - recall: 0.6988 - auc: 0.6918 - prc: 0.2534 - val_loss: 0.6601 - val_tp: 6588.0000 - val_fp: 24907.0000 - val_tn: 28911.0000 - val_fn: 2457.0000 - val_accuracy: 0.5647 - val_precision: 0.2092 - val_recall: 0.7284 - val_auc: 0.6854 - val_prc: 0.2582\n",
      "Epoch 7/30\n",
      "983/983 [==============================] - 725s 715ms/step - loss: 0.6286 - tp: 50586.0000 - fp: 179169.0000 - tn: 251406.0000 - fn: 21745.0000 - accuracy: 0.6005 - precision: 0.2202 - recall: 0.6994 - auc: 0.6940 - prc: 0.2552 - val_loss: 0.6221 - val_tp: 5795.0000 - val_fp: 20137.0000 - val_tn: 33681.0000 - val_fn: 3250.0000 - val_accuracy: 0.6280 - val_precision: 0.2235 - val_recall: 0.6407 - val_auc: 0.6850 - val_prc: 0.2568\n",
      "Epoch 8/30\n",
      "983/983 [==============================] - 736s 727ms/step - loss: 0.6267 - tp: 51082.0000 - fp: 179783.0000 - tn: 250792.0000 - fn: 21249.0000 - accuracy: 0.6003 - precision: 0.2213 - recall: 0.7062 - auc: 0.6966 - prc: 0.2576 - val_loss: 0.6643 - val_tp: 6738.0000 - val_fp: 26038.0000 - val_tn: 27780.0000 - val_fn: 2307.0000 - val_accuracy: 0.5491 - val_precision: 0.2056 - val_recall: 0.7449 - val_auc: 0.6854 - val_prc: 0.2590\n",
      "Epoch 9/30\n",
      "983/983 [==============================] - 733s 726ms/step - loss: 0.6253 - tp: 51643.0000 - fp: 181391.0000 - tn: 249184.0000 - fn: 20688.0000 - accuracy: 0.5982 - precision: 0.2216 - recall: 0.7140 - auc: 0.6985 - prc: 0.2580 - val_loss: 0.6344 - val_tp: 6156.0000 - val_fp: 22127.0000 - val_tn: 31691.0000 - val_fn: 2889.0000 - val_accuracy: 0.6021 - val_precision: 0.2177 - val_recall: 0.6806 - val_auc: 0.6865 - val_prc: 0.2582\n",
      "Epoch 10/30\n",
      "983/983 [==============================] - 785s 780ms/step - loss: 0.6227 - tp: 51320.0000 - fp: 177943.0000 - tn: 252632.0000 - fn: 21011.0000 - accuracy: 0.6044 - precision: 0.2238 - recall: 0.7095 - auc: 0.7020 - prc: 0.2621 - val_loss: 0.6500 - val_tp: 6519.0000 - val_fp: 24383.0000 - val_tn: 29435.0000 - val_fn: 2526.0000 - val_accuracy: 0.5719 - val_precision: 0.2110 - val_recall: 0.7207 - val_auc: 0.6867 - val_prc: 0.2593\n",
      "Epoch 11/30\n",
      "983/983 [==============================] - 796s 791ms/step - loss: 0.6207 - tp: 51840.0000 - fp: 178957.0000 - tn: 251618.0000 - fn: 20491.0000 - accuracy: 0.6034 - precision: 0.2246 - recall: 0.7167 - auc: 0.7046 - prc: 0.2642 - val_loss: 0.6432 - val_tp: 6276.0000 - val_fp: 22911.0000 - val_tn: 30907.0000 - val_fn: 2769.0000 - val_accuracy: 0.5915 - val_precision: 0.2150 - val_recall: 0.6939 - val_auc: 0.6863 - val_prc: 0.2588\n",
      "Epoch 12/30\n",
      "983/983 [==============================] - 791s 783ms/step - loss: 0.6193 - tp: 51955.0000 - fp: 178501.0000 - tn: 252074.0000 - fn: 20376.0000 - accuracy: 0.6045 - precision: 0.2254 - recall: 0.7183 - auc: 0.7063 - prc: 0.2654 - val_loss: 0.6496 - val_tp: 6627.0000 - val_fp: 25403.0000 - val_tn: 28415.0000 - val_fn: 2418.0000 - val_accuracy: 0.5574 - val_precision: 0.2069 - val_recall: 0.7327 - val_auc: 0.6846 - val_prc: 0.2577\n",
      "Epoch 13/30\n",
      "983/983 [==============================] - 801s 790ms/step - loss: 0.6174 - tp: 52277.0000 - fp: 178834.0000 - tn: 251741.0000 - fn: 20054.0000 - accuracy: 0.6045 - precision: 0.2262 - recall: 0.7227 - auc: 0.7091 - prc: 0.2681 - val_loss: 0.6449 - val_tp: 6268.0000 - val_fp: 22718.0000 - val_tn: 31100.0000 - val_fn: 2777.0000 - val_accuracy: 0.5944 - val_precision: 0.2162 - val_recall: 0.6930 - val_auc: 0.6861 - val_prc: 0.2579\n",
      "Epoch 14/30\n",
      "983/983 [==============================] - 807s 804ms/step - loss: 0.6152 - tp: 52517.0000 - fp: 178897.0000 - tn: 251678.0000 - fn: 19814.0000 - accuracy: 0.6049 - precision: 0.2269 - recall: 0.7261 - auc: 0.7119 - prc: 0.2701 - val_loss: 0.6472 - val_tp: 6401.0000 - val_fp: 23477.0000 - val_tn: 30341.0000 - val_fn: 2644.0000 - val_accuracy: 0.5845 - val_precision: 0.2142 - val_recall: 0.7077 - val_auc: 0.6851 - val_prc: 0.2572\n",
      "Epoch 15/30\n",
      "983/983 [==============================] - 830s 824ms/step - loss: 0.6132 - tp: 52546.0000 - fp: 176904.0000 - tn: 253671.0000 - fn: 19785.0000 - accuracy: 0.6089 - precision: 0.2290 - recall: 0.7265 - auc: 0.7146 - prc: 0.2724 - val_loss: 0.6322 - val_tp: 6249.0000 - val_fp: 22984.0000 - val_tn: 30834.0000 - val_fn: 2796.0000 - val_accuracy: 0.5899 - val_precision: 0.2138 - val_recall: 0.6909 - val_auc: 0.6847 - val_prc: 0.2586\n",
      "Epoch 16/30\n",
      "983/983 [==============================] - 814s 810ms/step - loss: 0.6110 - tp: 52277.0000 - fp: 174531.0000 - tn: 256044.0000 - fn: 20054.0000 - accuracy: 0.6131 - precision: 0.2305 - recall: 0.7227 - auc: 0.7170 - prc: 0.2746 - val_loss: 0.6606 - val_tp: 6623.0000 - val_fp: 25349.0000 - val_tn: 28469.0000 - val_fn: 2422.0000 - val_accuracy: 0.5582 - val_precision: 0.2072 - val_recall: 0.7322 - val_auc: 0.6841 - val_prc: 0.2583\n",
      "Epoch 17/30\n",
      "983/983 [==============================] - 791s 782ms/step - loss: 0.6095 - tp: 52672.0000 - fp: 174747.0000 - tn: 255828.0000 - fn: 19659.0000 - accuracy: 0.6134 - precision: 0.2316 - recall: 0.7282 - auc: 0.7184 - prc: 0.2747 - val_loss: 0.6573 - val_tp: 6549.0000 - val_fp: 24835.0000 - val_tn: 28983.0000 - val_fn: 2496.0000 - val_accuracy: 0.5652 - val_precision: 0.2087 - val_recall: 0.7240 - val_auc: 0.6845 - val_prc: 0.2591\n",
      "Epoch 18/30\n",
      "983/983 [==============================] - 795s 789ms/step - loss: 0.6078 - tp: 52880.0000 - fp: 174733.0000 - tn: 255842.0000 - fn: 19451.0000 - accuracy: 0.6139 - precision: 0.2323 - recall: 0.7311 - auc: 0.7207 - prc: 0.2787 - val_loss: 0.6237 - val_tp: 6166.0000 - val_fp: 22536.0000 - val_tn: 31282.0000 - val_fn: 2879.0000 - val_accuracy: 0.5957 - val_precision: 0.2148 - val_recall: 0.6817 - val_auc: 0.6822 - val_prc: 0.2572\n",
      "Epoch 19/30\n"
     ]
    },
    {
     "name": "stdout",
     "output_type": "stream",
     "text": [
      "983/983 [==============================] - 819s 813ms/step - loss: 0.6056 - tp: 53170.0000 - fp: 175469.0000 - tn: 255106.0000 - fn: 19161.0000 - accuracy: 0.6130 - precision: 0.2325 - recall: 0.7351 - auc: 0.7229 - prc: 0.2795 - val_loss: 0.6455 - val_tp: 6380.0000 - val_fp: 23789.0000 - val_tn: 30029.0000 - val_fn: 2665.0000 - val_accuracy: 0.5792 - val_precision: 0.2115 - val_recall: 0.7054 - val_auc: 0.6817 - val_prc: 0.2555\n",
      "Epoch 20/30\n",
      "983/983 [==============================] - 788s 781ms/step - loss: 0.6044 - tp: 53117.0000 - fp: 174477.0000 - tn: 256098.0000 - fn: 19214.0000 - accuracy: 0.6149 - precision: 0.2334 - recall: 0.7344 - auc: 0.7248 - prc: 0.2824 - val_loss: 0.6356 - val_tp: 6180.0000 - val_fp: 22835.0000 - val_tn: 30983.0000 - val_fn: 2865.0000 - val_accuracy: 0.5912 - val_precision: 0.2130 - val_recall: 0.6833 - val_auc: 0.6813 - val_prc: 0.2542\n",
      "Epoch 21/30\n",
      "983/983 [==============================] - 827s 821ms/step - loss: 0.6027 - tp: 53442.0000 - fp: 175005.0000 - tn: 255570.0000 - fn: 18889.0000 - accuracy: 0.6145 - precision: 0.2339 - recall: 0.7389 - auc: 0.7268 - prc: 0.2862 - val_loss: 0.6265 - val_tp: 6078.0000 - val_fp: 22101.0000 - val_tn: 31717.0000 - val_fn: 2967.0000 - val_accuracy: 0.6012 - val_precision: 0.2157 - val_recall: 0.6720 - val_auc: 0.6798 - val_prc: 0.2538\n",
      "Epoch 22/30\n",
      "983/983 [==============================] - 834s 828ms/step - loss: 0.6008 - tp: 53613.0000 - fp: 174109.0000 - tn: 256466.0000 - fn: 18718.0000 - accuracy: 0.6166 - precision: 0.2354 - recall: 0.7412 - auc: 0.7287 - prc: 0.2877 - val_loss: 0.6371 - val_tp: 6248.0000 - val_fp: 22983.0000 - val_tn: 30835.0000 - val_fn: 2797.0000 - val_accuracy: 0.5899 - val_precision: 0.2137 - val_recall: 0.6908 - val_auc: 0.6794 - val_prc: 0.2516\n",
      "Epoch 23/30\n",
      "983/983 [==============================] - 846s 841ms/step - loss: 0.5986 - tp: 53734.0000 - fp: 174192.0000 - tn: 256383.0000 - fn: 18597.0000 - accuracy: 0.6167 - precision: 0.2358 - recall: 0.7429 - auc: 0.7311 - prc: 0.2919 - val_loss: 0.6351 - val_tp: 6042.0000 - val_fp: 22027.0000 - val_tn: 31791.0000 - val_fn: 3003.0000 - val_accuracy: 0.6018 - val_precision: 0.2153 - val_recall: 0.6680 - val_auc: 0.6769 - val_prc: 0.2506\n",
      "Epoch 24/30\n",
      "983/983 [==============================] - 856s 855ms/step - loss: 0.5972 - tp: 53294.0000 - fp: 169270.0000 - tn: 261305.0000 - fn: 19037.0000 - accuracy: 0.6256 - precision: 0.2395 - recall: 0.7368 - auc: 0.7335 - prc: 0.2943 - val_loss: 0.6402 - val_tp: 6057.0000 - val_fp: 22081.0000 - val_tn: 31737.0000 - val_fn: 2988.0000 - val_accuracy: 0.6012 - val_precision: 0.2153 - val_recall: 0.6697 - val_auc: 0.6784 - val_prc: 0.2510\n",
      "Epoch 25/30\n",
      "983/983 [==============================] - 848s 843ms/step - loss: 0.5946 - tp: 53446.0000 - fp: 169428.0000 - tn: 261147.0000 - fn: 18885.0000 - accuracy: 0.6256 - precision: 0.2398 - recall: 0.7389 - auc: 0.7363 - prc: 0.2970 - val_loss: 0.6120 - val_tp: 5759.0000 - val_fp: 20392.0000 - val_tn: 33426.0000 - val_fn: 3286.0000 - val_accuracy: 0.6233 - val_precision: 0.2202 - val_recall: 0.6367 - val_auc: 0.6784 - val_prc: 0.2507\n",
      "Epoch 26/30\n",
      "983/983 [==============================] - 840s 835ms/step - loss: 0.5935 - tp: 53850.0000 - fp: 170848.0000 - tn: 259727.0000 - fn: 18481.0000 - accuracy: 0.6235 - precision: 0.2397 - recall: 0.7445 - auc: 0.7370 - prc: 0.2987 - val_loss: 0.6420 - val_tp: 6168.0000 - val_fp: 22993.0000 - val_tn: 30825.0000 - val_fn: 2877.0000 - val_accuracy: 0.5885 - val_precision: 0.2115 - val_recall: 0.6819 - val_auc: 0.6774 - val_prc: 0.2499\n",
      "Epoch 27/30\n",
      "983/983 [==============================] - 852s 842ms/step - loss: 0.5924 - tp: 53621.0000 - fp: 168852.0000 - tn: 261723.0000 - fn: 18710.0000 - accuracy: 0.6270 - precision: 0.2410 - recall: 0.7413 - auc: 0.7388 - prc: 0.3018 - val_loss: 0.6511 - val_tp: 6315.0000 - val_fp: 23564.0000 - val_tn: 30254.0000 - val_fn: 2730.0000 - val_accuracy: 0.5817 - val_precision: 0.2114 - val_recall: 0.6982 - val_auc: 0.6765 - val_prc: 0.2457\n",
      "Epoch 28/30\n",
      "983/983 [==============================] - 885s 874ms/step - loss: 0.5897 - tp: 53938.0000 - fp: 168767.0000 - tn: 261808.0000 - fn: 18393.0000 - accuracy: 0.6278 - precision: 0.2422 - recall: 0.7457 - auc: 0.7411 - prc: 0.3034 - val_loss: 0.6520 - val_tp: 6179.0000 - val_fp: 22914.0000 - val_tn: 30904.0000 - val_fn: 2866.0000 - val_accuracy: 0.5899 - val_precision: 0.2124 - val_recall: 0.6831 - val_auc: 0.6764 - val_prc: 0.2467\n",
      "Epoch 29/30\n",
      "983/983 [==============================] - 1248s 1s/step - loss: 0.5900 - tp: 53869.0000 - fp: 168610.0000 - tn: 261965.0000 - fn: 18462.0000 - accuracy: 0.6280 - precision: 0.2421 - recall: 0.7448 - auc: 0.7413 - prc: 0.3065 - val_loss: 0.6399 - val_tp: 6109.0000 - val_fp: 22533.0000 - val_tn: 31285.0000 - val_fn: 2936.0000 - val_accuracy: 0.5948 - val_precision: 0.2133 - val_recall: 0.6754 - val_auc: 0.6748 - val_prc: 0.2447\n",
      "Epoch 30/30\n",
      "983/983 [==============================] - 1228s 1s/step - loss: 0.5876 - tp: 53904.0000 - fp: 166952.0000 - tn: 263623.0000 - fn: 18427.0000 - accuracy: 0.6314 - precision: 0.2441 - recall: 0.7452 - auc: 0.7439 - prc: 0.3094 - val_loss: 0.6511 - val_tp: 6272.0000 - val_fp: 23436.0000 - val_tn: 30382.0000 - val_fn: 2773.0000 - val_accuracy: 0.5831 - val_precision: 0.2111 - val_recall: 0.6934 - val_auc: 0.6754 - val_prc: 0.2462\n"
     ]
    }
   ],
   "source": [
    "# Fitting the model\n",
    "model = make_model(output_bias=initial_bias)\n",
    "DNN_history = model.fit(\n",
    "    train_ds, \n",
    "    batch_size=2048, \n",
    "    epochs=30,\n",
    "    validation_data=valid_ds,\n",
    "    class_weight=class_weights)"
   ]
  },
  {
   "cell_type": "markdown",
   "id": "7708e38a",
   "metadata": {},
   "source": [
    "## Evaluate the Model"
   ]
  },
  {
   "cell_type": "code",
   "execution_count": 42,
   "id": "a7561153",
   "metadata": {},
   "outputs": [],
   "source": [
    "# Defining a function to visualize evaluation metrics on training and validation over epochs\n",
    "mpl.rcParams['figure.figsize'] = (12, 10)\n",
    "colors = plt.rcParams['axes.prop_cycle'].by_key()['color']\n",
    "def plot_metrics(history):\n",
    "  metrics = ['loss', 'accuracy', 'auc', 'prc', 'precision', 'recall']\n",
    "  for n, metric in enumerate(metrics):\n",
    "    name = metric.replace(\"_\",\" \").capitalize()\n",
    "    plt.subplot(3,2,n+1)\n",
    "    plt.plot(history.epoch, history.history[metric], color=colors[0], label='Train')\n",
    "    plt.plot(history.epoch, history.history['val_'+metric],\n",
    "             color=colors[0], linestyle=\"--\", label='Validate')\n",
    "    plt.xlabel('Epoch')\n",
    "    plt.ylabel(name)\n",
    "    plt.ylim([0,1])\n",
    "    plt.xlim([1,30])\n",
    "    plt.xticks(ticks=range(1,31,2))\n",
    "    plt.legend();"
   ]
  },
  {
   "cell_type": "code",
   "execution_count": 43,
   "id": "f3e0adb1",
   "metadata": {},
   "outputs": [
    {
     "data": {
      "image/png": "[encoded data removed]",
      "text/plain": [
       "<Figure size 864x720 with 6 Axes>"
      ]
     },
     "metadata": {
      "needs_background": "light"
     },
     "output_type": "display_data"
    }
   ],
   "source": [
    "plot_metrics(DNN_history)"
   ]
  },
  {
   "cell_type": "code",
   "execution_count": 44,
   "id": "f2317ca8",
   "metadata": {},
   "outputs": [
    {
     "name": "stdout",
     "output_type": "stream",
     "text": [
      "983/983 [==============================] - 530s 510ms/step\n",
      "123/123 [==============================] - 9s 72ms/step\n",
      "123/123 [==============================] - 10s 79ms/step\n"
     ]
    }
   ],
   "source": [
    "# Generating model prediction probabilities\n",
    "train_predictions = model.predict(train_ds, batch_size=512)\n",
    "validate_predictions = model.predict(valid_ds, batch_size=512)\n",
    "test_predictions = model.predict(test_ds, batch_size=512)"
   ]
  },
  {
   "cell_type": "code",
   "execution_count": 37,
   "id": "a4fc7afc",
   "metadata": {},
   "outputs": [],
   "source": [
    "# Generating model prediction classes\n",
    "# train_predict_class = np.argmax(train_predictions,axis=1)\n",
    "# validate_predict_class = np.argmax(validate_predictions,axis=1)\n",
    "# test_predict_class = np.argmax(test_predictions,axis=1)"
   ]
  },
  {
   "cell_type": "code",
   "execution_count": 45,
   "id": "883ebda9",
   "metadata": {},
   "outputs": [],
   "source": [
    "# Defining a function to visualize the confusion matrix\n",
    "def plot_cm(labels, predictions, p=0.5):\n",
    "  cm = confusion_matrix(labels, predictions > p)\n",
    "  plt.figure(figsize=(10,5))\n",
    "  sns.heatmap(cm, annot=True, fmt=\"d\")\n",
    "  plt.title('Confusion matrix @ {:.2f}'.format(p))\n",
    "  plt.ylabel('Actual label')\n",
    "  plt.xlabel('Predicted label')\n",
    "\n",
    "  print('No Readmission Detected (True Negatives): ', cm[0][0])\n",
    "  print('Readmission Incorrectly Detected (False Positives): ', cm[0][1])\n",
    "  print('Readmission Missed (False Negatives): ', cm[1][0])\n",
    "  print('Readmission Detected (True Positives): ', cm[1][1])"
   ]
  },
  {
   "cell_type": "code",
   "execution_count": 46,
   "id": "3d2b3da4",
   "metadata": {},
   "outputs": [
    {
     "name": "stdout",
     "output_type": "stream",
     "text": [
      "loss :  0.6511606574058533\n",
      "tp :  6330.0\n",
      "fp :  23585.0\n",
      "tn :  30233.0\n",
      "fn :  2716.0\n",
      "accuracy :  0.5816206336021423\n",
      "precision :  0.21159952878952026\n",
      "recall :  0.6997568011283875\n",
      "auc :  0.677112340927124\n",
      "prc :  0.24255433678627014\n",
      "\n",
      "No Readmission Detected (True Negatives):  30233\n",
      "Readmission Incorrectly Detected (False Positives):  23585\n",
      "Readmission Missed (False Negatives):  2716\n",
      "Readmission Detected (True Positives):  6330\n"
     ]
    },
    {
     "data": {
      "image/png": "[encoded data removed]",
      "text/plain": [
       "<Figure size 720x360 with 2 Axes>"
      ]
     },
     "metadata": {
      "needs_background": "light"
     },
     "output_type": "display_data"
    }
   ],
   "source": [
    "model_results = model.evaluate(test_ds, batch_size=512, verbose=0)\n",
    "for name, value in zip(model.metrics_names, model_results):\n",
    "  print(name, ': ', value)\n",
    "print()\n",
    "plot_cm(test['Readmit'], test_predictions)"
   ]
  },
  {
   "cell_type": "code",
   "execution_count": 47,
   "id": "454903c7",
   "metadata": {},
   "outputs": [],
   "source": [
    "# Defining a function to plot the ROC curve\n",
    "def plot_roc(name, labels, predictions, **kwargs):\n",
    "  fp, tp, _ = sklearn.metrics.roc_curve(labels, predictions)\n",
    "  plt.plot(100*fp, 100*tp, label=name, linewidth=2, **kwargs)\n",
    "  plt.xlabel('False positives [%]')\n",
    "  plt.ylabel('True positives [%]')\n",
    "  plt.xlim([-0.5,100.5])\n",
    "  plt.ylim([-0.5,100.5])\n",
    "  plt.grid(True)\n",
    "  ax = plt.gca()\n",
    "  ax.set_aspect('equal')"
   ]
  },
  {
   "cell_type": "code",
   "execution_count": 48,
   "id": "218b4178",
   "metadata": {},
   "outputs": [
    {
     "data": {
      "image/png": "[encoded data removed]",
      "text/plain": [
       "<Figure size 864x720 with 1 Axes>"
      ]
     },
     "metadata": {
      "needs_background": "light"
     },
     "output_type": "display_data"
    }
   ],
   "source": [
    "plot_roc(\"Train\", train['Readmit'], train_predictions, color=colors[0], linestyle='solid')\n",
    "plot_roc(\"Validate\", valid['Readmit'], validate_predictions, color=colors[1], linestyle='dotted')\n",
    "plot_roc(\"Test\", test['Readmit'], test_predictions, color=colors[2], linestyle='dashed')\n",
    "plt.legend(loc='lower right');"
   ]
  },
  {
   "cell_type": "code",
   "execution_count": 49,
   "id": "68f30e45",
   "metadata": {},
   "outputs": [],
   "source": [
    "# Defining a function to plot the AUPRC\n",
    "def plot_prc(name, labels, predictions, **kwargs):\n",
    "    precision, recall, _ = sklearn.metrics.precision_recall_curve(labels, predictions)\n",
    "    plt.plot(precision, recall, label=name, linewidth=2, **kwargs)\n",
    "    plt.xlabel('Precision')\n",
    "    plt.ylabel('Recall')\n",
    "    plt.grid(True)\n",
    "    ax = plt.gca()\n",
    "    ax.set_aspect('equal')"
   ]
  },
  {
   "cell_type": "code",
   "execution_count": 50,
   "id": "28e68be9",
   "metadata": {},
   "outputs": [
    {
     "data": {
      "image/png": "[encoded data removed]",
      "text/plain": [
       "<Figure size 864x720 with 1 Axes>"
      ]
     },
     "metadata": {
      "needs_background": "light"
     },
     "output_type": "display_data"
    }
   ],
   "source": [
    "plot_prc(\"Train\", train['Readmit'], train_predictions, color=colors[0], linestyle='solid')\n",
    "plot_prc(\"Validate\", valid['Readmit'], validate_predictions, color=colors[1], linestyle='dotted')\n",
    "plot_prc(\"Test\", test['Readmit'], test_predictions, color=colors[2], linestyle='dashed')\n",
    "plt.legend(loc='lower right');"
   ]
  },
  {
   "cell_type": "code",
   "execution_count": 51,
   "id": "e2a6fba9",
   "metadata": {},
   "outputs": [
    {
     "name": "stderr",
     "output_type": "stream",
     "text": [
      "WARNING:absl:Function `_wrapped_model` contains input name(s) APRDRG_Risk_Mortality, APRDRG_Severity, ZIPINC_QRTL, AGE, DMONTH, I10_NDX, Log_TOTCHG, Log_N_DISC_U, Log_N_HOSP_U, Log_TOTAL_DISC, Log_LOS, Log_I10_NPR, APRDRG, HOSP_BEDSIZE, H_CONTRL, HOSP_URCAT4, HOSP_UR_TEACH, DIED, DISPUNIFORM, ELECTIVE, FEMALE, HCUP_ED, PAY1, PL_NCHS, REHABTRANSFER, RESIDENT, SAMEDAYEVENT, Primary_dx, Secondary_dx, Procedure, MBD_dx with unsupported characters which will be renamed to aprdrg_risk_mortality, aprdrg_severity, zipinc_qrtl, age, dmonth, i10_ndx, log_totchg, log_n_disc_u, log_n_hosp_u, log_total_disc, log_los, log_i10_npr, aprdrg, hosp_bedsize, h_contrl, hosp_urcat4, hosp_ur_teach, died, dispuniform, elective, female, hcup_ed, pay1, pl_nchs, rehabtransfer, resident, samedayevent, primary_dx, secondary_dx, procedure, mbd_dx in the SavedModel.\n"
     ]
    },
    {
     "name": "stdout",
     "output_type": "stream",
     "text": [
      "INFO:tensorflow:Assets written to: D:\\MLE Capstone Project\\Model_V3\\assets\n"
     ]
    },
    {
     "name": "stderr",
     "output_type": "stream",
     "text": [
      "INFO:tensorflow:Assets written to: D:\\MLE Capstone Project\\Model_V3\\assets\n"
     ]
    }
   ],
   "source": [
    "# Saving the model\n",
    "model.save('D:\\MLE Capstone Project\\Model_V3')"
   ]
  }
 ],
 "metadata": {
  "kernelspec": {
   "display_name": "Python 3 (ipykernel)",
   "language": "python",
   "name": "python3"
  },
  "language_info": {
   "codemirror_mode": {
    "name": "ipython",
    "version": 3
   },
   "file_extension": ".py",
   "mimetype": "text/x-python",
   "name": "python",
   "nbconvert_exporter": "python",
   "pygments_lexer": "ipython3",
   "version": "3.8.13"
  }
 },
 "nbformat": 4,
 "nbformat_minor": 5
}
