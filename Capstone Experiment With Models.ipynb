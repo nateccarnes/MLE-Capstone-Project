{
 "cells": [
  {
   "cell_type": "markdown",
   "id": "db46a7f7",
   "metadata": {},
   "source": [
    "# Capstone Step 7 (14.8.1): Experiment With Various Models"
   ]
  },
  {
   "cell_type": "markdown",
   "id": "53890880",
   "metadata": {},
   "source": [
    "## Final Data Preparation"
   ]
  },
  {
   "cell_type": "code",
   "execution_count": 1,
   "id": "e933088f",
   "metadata": {},
   "outputs": [],
   "source": [
    "import pandas as pd\n",
    "import numpy as np\n",
    "\n",
    "import matplotlib.pyplot as plt\n",
    "import seaborn as sns\n",
    "\n",
    "from sklearn.cluster import KMeans"
   ]
  },
  {
   "cell_type": "code",
   "execution_count": 2,
   "id": "660c8f64",
   "metadata": {},
   "outputs": [],
   "source": [
    "modeling_df = pd.read_csv(r'D:\\MLE Capstone Project\\Data\\modeling_data.csv')"
   ]
  },
  {
   "cell_type": "code",
   "execution_count": 3,
   "id": "fbafbe23",
   "metadata": {},
   "outputs": [],
   "source": [
    "modeling_df = modeling_df.drop(columns=['DXCCSR_DEFAULT_DX1','MBD_dx','APRDRG','re_same_90','re_diff_90'])"
   ]
  },
  {
   "cell_type": "code",
   "execution_count": 4,
   "id": "cc612dcc",
   "metadata": {},
   "outputs": [
    {
     "name": "stdout",
     "output_type": "stream",
     "text": [
      "<class 'pandas.core.frame.DataFrame'>\n",
      "RangeIndex: 795055 entries, 0 to 795054\n",
      "Data columns (total 31 columns):\n",
      " #   Column                 Non-Null Count   Dtype  \n",
      "---  ------                 --------------   -----  \n",
      " 0   Primary_dx             795055 non-null  object \n",
      " 1   Secondary_dx           718689 non-null  object \n",
      " 2   APRDRG_Risk_Mortality  794644 non-null  float64\n",
      " 3   APRDRG_Severity        794644 non-null  float64\n",
      " 4   HOSP_BEDSIZE           795055 non-null  int64  \n",
      " 5   H_CONTRL               795055 non-null  int64  \n",
      " 6   HOSP_URCAT4            795055 non-null  int64  \n",
      " 7   HOSP_UR_TEACH          795055 non-null  int64  \n",
      " 8   N_DISC_U               795055 non-null  int64  \n",
      " 9   N_HOSP_U               795055 non-null  int64  \n",
      " 10  TOTAL_DISC             795055 non-null  int64  \n",
      " 11  AGE                    795055 non-null  float64\n",
      " 12  DIED                   793974 non-null  float64\n",
      " 13  DISPUNIFORM            790457 non-null  float64\n",
      " 14  DMONTH                 795055 non-null  float64\n",
      " 15  ELECTIVE               793023 non-null  float64\n",
      " 16  FEMALE                 795055 non-null  float64\n",
      " 17  HCUP_ED                795055 non-null  float64\n",
      " 18  LOS                    794943 non-null  float64\n",
      " 19  I10_NDX                795055 non-null  float64\n",
      " 20  I10_NPR                795055 non-null  float64\n",
      " 21  PAY1                   793087 non-null  float64\n",
      " 22  PL_NCHS                777227 non-null  float64\n",
      " 23  REHABTRANSFER          795055 non-null  float64\n",
      " 24  RESIDENT               795055 non-null  float64\n",
      " 25  SAMEDAYEVENT           795055 non-null  int64  \n",
      " 26  TOTCHG                 794399 non-null  float64\n",
      " 27  ZIPINC_QRTL            782935 non-null  float64\n",
      " 28  Procedure              248031 non-null  object \n",
      " 29  avg_days_to_proc       247709 non-null  float64\n",
      " 30  re_any_90              795055 non-null  int64  \n",
      "dtypes: float64(19), int64(9), object(3)\n",
      "memory usage: 188.0+ MB\n"
     ]
    }
   ],
   "source": [
    "modeling_df.info()"
   ]
  },
  {
   "cell_type": "markdown",
   "id": "feba8298",
   "metadata": {},
   "source": [
    "This dataset includes 795,055 unique admission records occuring within the first 9 months of the year; only patients who have an MBD (Mental, Behavioral, and Neurodevelopmental Disorder) as their primary diagnosis are included. Our EDA revealed that 58,562 patients (9.32%) were readmitted at least once for the same primary diagnosis, 31,860 patients (5.07%) were readmitted at least once for a different primary diagnosis, and 538,211 patients (85.62%) were never readmitted. The variables include basic information about the patient, medical diagnosis and severity information, and hospital information."
   ]
  },
  {
   "cell_type": "markdown",
   "id": "9f2df785",
   "metadata": {},
   "source": [
    "One of the first things we are going to do is reduce the dimensionality of some of the variables. First, we are going to reduce the dimensionality of the secondary diagnosis variable (which has 31,045 unique values) with clustering. Based on the elbow plot we created below, we are going to reduce this secondary diagnosis variable to 7 dimensions (plus missing). Second, we are going to reduce the procedure variable to a binary classification (yes/no) because there is no additional information available in this dataset about these procedures with which to reduce the dimensionality. Third, we are going to use one hot encoding to recode the primary diagnosis variable."
   ]
  },
  {
   "cell_type": "code",
   "execution_count": 5,
   "id": "b738cbe0",
   "metadata": {},
   "outputs": [],
   "source": [
    "# Reducing the dataframe to the secondary diagnosis codes and diagnosis-related information\n",
    "secondary_df = modeling_df[['APRDRG_Risk_Mortality','APRDRG_Severity','LOS','I10_NDX','I10_NPR','TOTCHG','avg_days_to_proc',\n",
    "                            'Secondary_dx']]\n",
    "secondary_df = secondary_df.groupby(by=\"Secondary_dx\").mean()\n",
    "for column in secondary_df:\n",
    "    columnSeriesObj = secondary_df[column]\n",
    "    col_mean = columnSeriesObj.mean()\n",
    "    columnSeriesObj.fillna(value=col_mean, inplace=True)"
   ]
  },
  {
   "cell_type": "code",
   "execution_count": 6,
   "id": "26e5b214",
   "metadata": {},
   "outputs": [
    {
     "data": {
      "image/png": "[encoded data removed]",
      "text/plain": [
       "<Figure size 432x288 with 1 Axes>"
      ]
     },
     "metadata": {
      "needs_background": "light"
     },
     "output_type": "display_data"
    }
   ],
   "source": [
    "# Using K-Means clustering and an elbow plot to identify the optimal number of dimensions\n",
    "x_cols = np.asarray(secondary_df)\n",
    "centroids = list(range(3,13,1))\n",
    "SS = []\n",
    "for i in centroids:\n",
    "    temp = KMeans(n_clusters=i, random_state=12).fit(x_cols)\n",
    "    SS.append(temp.inertia_)\n",
    "elbow_fig = plt.figure()\n",
    "ax = elbow_fig.add_subplot(111)\n",
    "ax.plot(centroids, SS, color='red', linewidth=3)\n",
    "ax.set(title='Elbow Plot', xlabel='K', ylabel='SS')\n",
    "ax.xaxis.set(ticks=centroids, ticklabels=centroids)\n",
    "ax.grid(False)\n",
    "plt.show()"
   ]
  },
  {
   "cell_type": "code",
   "execution_count": 7,
   "id": "dcb11b57",
   "metadata": {},
   "outputs": [],
   "source": [
    "# Creating a dataframe containing the cluster categories\n",
    "cluster_model = KMeans(n_clusters=7, random_state=12).fit_predict(x_cols)\n",
    "secondary_df['SDX_TYPE']=cluster_model\n",
    "cluster_types = secondary_df.drop(columns=['APRDRG_Risk_Mortality','APRDRG_Severity','LOS','I10_NDX',\n",
    "                                           'I10_NPR','TOTCHG','avg_days_to_proc']).reset_index()"
   ]
  },
  {
   "cell_type": "code",
   "execution_count": 8,
   "id": "504b8b6b",
   "metadata": {},
   "outputs": [
    {
     "name": "stdout",
     "output_type": "stream",
     "text": [
      "Dimension 0 successfully added!\n",
      "Dimension 1 successfully added!\n",
      "Dimension 2 successfully added!\n",
      "Dimension 3 successfully added!\n",
      "Dimension 4 successfully added!\n",
      "Dimension 5 successfully added!\n",
      "Dimension 6 successfully added!\n"
     ]
    }
   ],
   "source": [
    "# Adding the cluster categories to the modeling dataframe\n",
    "modeling_df['SDX_TYPE'] = np.NaN\n",
    "for dimension in range(0,7):\n",
    "    reference_df = cluster_types[cluster_types.SDX_TYPE == dimension]\n",
    "    modeling_df['SDX_TYPE'] = np.where(modeling_df['Secondary_dx'].isin(reference_df['Secondary_dx']), \n",
    "                                       dimension, modeling_df['SDX_TYPE'])\n",
    "    print(f\"Dimension {dimension} successfully added!\")"
   ]
  },
  {
   "cell_type": "code",
   "execution_count": 9,
   "id": "708bf660",
   "metadata": {},
   "outputs": [],
   "source": [
    "# Adding an eighth secondary diagnosis category (no comorbidities); no MBD comorbidities = 7\n",
    "modeling_df['SDX_TYPE'] = np.where(modeling_df['SDX_TYPE'].isna(), 7, modeling_df['SDX_TYPE'])"
   ]
  },
  {
   "cell_type": "code",
   "execution_count": 10,
   "id": "dc284628",
   "metadata": {},
   "outputs": [],
   "source": [
    "# Changing the procedure code to a binary (yes/no) variable\n",
    "modeling_df['PROCED'] = np.where(modeling_df['Procedure'].notna(), 1, 0)"
   ]
  },
  {
   "cell_type": "code",
   "execution_count": 11,
   "id": "479e3819",
   "metadata": {},
   "outputs": [],
   "source": [
    "# Changing missing values to a category code representing unknown\n",
    "# 411 na for APRDRG_Risk_Mortality and APRDRG_Severity; recoded 0 = unknown\n",
    "modeling_df['APRDRG_Risk_Mortality'] = np.where(modeling_df['APRDRG_Risk_Mortality'].isna(), \n",
    "                                                0, modeling_df['APRDRG_Risk_Mortality'])\n",
    "modeling_df['APRDRG_Severity'] = np.where(modeling_df['APRDRG_Severity'].isna(), \n",
    "                                          0, modeling_df['APRDRG_Severity'])\n",
    "# 4598 na for DISPUNIFORM; recoded 0 = unknown\n",
    "modeling_df['DISPUNIFORM'] = np.where(modeling_df['DISPUNIFORM'].isna(), 0, modeling_df['DISPUNIFORM'])\n",
    "# 1081 na for DIED; recoded 2 = unknown\n",
    "modeling_df['DIED'] = np.where(modeling_df['DIED'].isna(), 2, modeling_df['DIED'])\n",
    "# 2032 na for ELECTIVE; recoded 2 = unknown\n",
    "modeling_df['ELECTIVE'] = np.where(modeling_df['ELECTIVE'].isna(), 2, modeling_df['ELECTIVE'])\n",
    "# 1968 na for PAY1; recoded 0 = unknown\n",
    "modeling_df['PAY1'] = np.where(modeling_df['PAY1'].isna(), 0, modeling_df['PAY1'])\n",
    "# 17828 na for PL_NCHS; recoded 0 = unknown\n",
    "modeling_df['PL_NCHS'] = np.where(modeling_df['PL_NCHS'].isna(), 0, modeling_df['PL_NCHS'])\n",
    "\n",
    "# Replacing missing values with the column mean\n",
    "# 112 na for LOS\n",
    "# 656 na for TOTCHG\n",
    "# 12120 na for ZIPINC_QRTL\n",
    "for column in ['LOS','TOTCHG','ZIPINC_QRTL']:\n",
    "    columnSeriesObj = modeling_df[column]\n",
    "    col_mean = columnSeriesObj.mean()\n",
    "    columnSeriesObj.fillna(value=col_mean, inplace=True)"
   ]
  },
  {
   "cell_type": "code",
   "execution_count": 12,
   "id": "5b616df5",
   "metadata": {},
   "outputs": [],
   "source": [
    "# Removing the now redundant variables\n",
    "modeling_df = modeling_df.drop(columns=['Secondary_dx','Procedure','avg_days_to_proc'])"
   ]
  },
  {
   "cell_type": "code",
   "execution_count": 13,
   "id": "f3040eea",
   "metadata": {},
   "outputs": [],
   "source": [
    "# Stripping leading and trailing whitespace from primary diagnoses\n",
    "modeling_df['Primary_dx'] = modeling_df.Primary_dx.apply(lambda x: x.strip() if isinstance(x, str) else x)"
   ]
  },
  {
   "cell_type": "code",
   "execution_count": 14,
   "id": "f4234587",
   "metadata": {},
   "outputs": [],
   "source": [
    "# Changing extremely rare (n < 20) combination primary diagnoses codes into the parent diagnosis code\n",
    "modeling_df['Primary_dx'] = modeling_df.Primary_dx.apply(lambda x: 'MBD027' if x == 'MBD027 MBD029' else x)\n",
    "modeling_df['Primary_dx'] = modeling_df.Primary_dx.apply(lambda x: 'MBD005' if x == 'MBD005 MBD022' else x)\n",
    "modeling_df['Primary_dx'] = modeling_df.Primary_dx.apply(lambda x: 'MBD012' if x == 'MBD012 MBD023' else x)\n",
    "modeling_df['Primary_dx'] = modeling_df.Primary_dx.apply(lambda x: 'MBD027' if x == 'MBD027 MBD028' else x)\n",
    "modeling_df['Primary_dx'] = modeling_df.Primary_dx.apply(lambda x: 'MBD012' if x == 'MBD012 MBD021 MBD022' else x)\n",
    "modeling_df['Primary_dx'] = modeling_df.Primary_dx.apply(lambda x: 'MBD001' if x == 'MBD001 MBD023' else x)\n",
    "# Dropping extremely rare primary diagnosis codes\n",
    "modeling_df = modeling_df[(modeling_df.Primary_dx != 'MBD028') & (modeling_df.Primary_dx != 'MBD029') & \n",
    "                          (modeling_df.Primary_dx != 'MBD030')]"
   ]
  },
  {
   "cell_type": "code",
   "execution_count": 15,
   "id": "7b0849b6",
   "metadata": {},
   "outputs": [],
   "source": [
    "# Dropping last 3 months of data from dmonth since our readmission window is 90 days\n",
    "modeling_df = modeling_df[modeling_df.DMONTH <= 9]"
   ]
  },
  {
   "cell_type": "code",
   "execution_count": 16,
   "id": "3e5082c2",
   "metadata": {},
   "outputs": [],
   "source": [
    "# Saving the dataframe to a csv for quick reload\n",
    "modeling_df.to_csv(r'D:\\MLE Capstone Project\\Data\\modeling_data_prepared.csv', index=False)"
   ]
  },
  {
   "cell_type": "markdown",
   "id": "b33653f1",
   "metadata": {},
   "source": [
    "## Automatic modeling"
   ]
  },
  {
   "cell_type": "code",
   "execution_count": 2,
   "id": "3f54b235",
   "metadata": {},
   "outputs": [
    {
     "name": "stdout",
     "output_type": "stream",
     "text": [
      "Requirement already satisfied: mixed-naive-bayes in c:\\users\\ncarnes\\anaconda\\envs\\capstone\\lib\\site-packages (0.0.1)\n",
      "Requirement already satisfied: scikit-learn>=0.20.2 in c:\\users\\ncarnes\\anaconda\\envs\\capstone\\lib\\site-packages (from mixed-naive-bayes) (1.0.1)\n",
      "Requirement already satisfied: numpy>=1.16.1 in c:\\users\\ncarnes\\anaconda\\envs\\capstone\\lib\\site-packages (from mixed-naive-bayes) (1.21.4)\n",
      "Requirement already satisfied: threadpoolctl>=2.0.0 in c:\\users\\ncarnes\\anaconda\\envs\\capstone\\lib\\site-packages (from scikit-learn>=0.20.2->mixed-naive-bayes) (3.0.0)\n",
      "Requirement already satisfied: joblib>=0.11 in c:\\users\\ncarnes\\anaconda\\envs\\capstone\\lib\\site-packages (from scikit-learn>=0.20.2->mixed-naive-bayes) (1.1.0)\n",
      "Requirement already satisfied: scipy>=1.1.0 in c:\\users\\ncarnes\\anaconda\\envs\\capstone\\lib\\site-packages (from scikit-learn>=0.20.2->mixed-naive-bayes) (1.7.2)\n",
      "Note: you may need to restart the kernel to use updated packages.\n"
     ]
    }
   ],
   "source": [
    "pip install mixed-naive-bayes"
   ]
  },
  {
   "cell_type": "code",
   "execution_count": 2,
   "id": "6ca79da3",
   "metadata": {},
   "outputs": [],
   "source": [
    "from sklearn.linear_model import LogisticRegression\n",
    "from sklearn.svm import SVC\n",
    "from mixed_naive_bayes import MixedNB # Bernoulli and Gaussian implementation of NB\n",
    "from sklearn.ensemble import HistGradientBoostingClassifier # LightGBM\n",
    "from sklearn.ensemble import RandomForestClassifier\n",
    "\n",
    "from sklearn.metrics import precision_score, recall_score, f1_score # Performance metric\n",
    "from scipy import sparse\n",
    "from sklearn.preprocessing import OneHotEncoder, StandardScaler\n",
    "from sklearn.model_selection import train_test_split"
   ]
  },
  {
   "cell_type": "code",
   "execution_count": 3,
   "id": "46da85b0",
   "metadata": {},
   "outputs": [],
   "source": [
    "modeling_df = pd.read_csv(r'D:\\MLE Capstone Project\\Data\\modeling_data_prepared.csv')"
   ]
  },
  {
   "cell_type": "code",
   "execution_count": 4,
   "id": "f6d60268",
   "metadata": {},
   "outputs": [
    {
     "data": {
      "text/plain": [
       "(628620, 112)"
      ]
     },
     "execution_count": 4,
     "metadata": {},
     "output_type": "execute_result"
    }
   ],
   "source": [
    "# Encoding categorical features for automatic modeling\n",
    "categorical_data = modeling_df[['Primary_dx','APRDRG_Risk_Mortality','APRDRG_Severity','HOSP_BEDSIZE','H_CONTRL',\n",
    "                                'HOSP_URCAT4','HOSP_UR_TEACH','DIED','DISPUNIFORM','DMONTH','ELECTIVE','FEMALE',\n",
    "                                'HCUP_ED','PAY1','PL_NCHS','REHABTRANSFER','RESIDENT','SAMEDAYEVENT','ZIPINC_QRTL',\n",
    "                                'SDX_TYPE','PROCED']]\n",
    "cat_encoder = OneHotEncoder(drop='first',handle_unknown='ignore')\n",
    "categorical_data = cat_encoder.fit_transform(categorical_data)\n",
    "cat_labels = cat_encoder.get_feature_names_out(['Primary_dx','APRDRG_Risk_Mortality','APRDRG_Severity','HOSP_BEDSIZE',\n",
    "                                                'H_CONTRL','HOSP_URCAT4','HOSP_UR_TEACH','DIED','DISPUNIFORM','DMONTH',\n",
    "                                                'ELECTIVE','FEMALE','HCUP_ED','PAY1','PL_NCHS','REHABTRANSFER','RESIDENT',\n",
    "                                                'SAMEDAYEVENT','ZIPINC_QRTL','SDX_TYPE','PROCED'])\n",
    "categorical_data.shape"
   ]
  },
  {
   "cell_type": "code",
   "execution_count": 5,
   "id": "67e465d5",
   "metadata": {},
   "outputs": [
    {
     "data": {
      "text/plain": [
       "(628620, 8)"
      ]
     },
     "execution_count": 5,
     "metadata": {},
     "output_type": "execute_result"
    }
   ],
   "source": [
    "# Scaling continuous features for automatic modeling\n",
    "continuous_data = modeling_df[['N_DISC_U','N_HOSP_U','TOTAL_DISC','AGE','LOS','I10_NDX','I10_NPR','TOTCHG']]\n",
    "cont_scaler = StandardScaler()\n",
    "continuous_data = cont_scaler.fit_transform(continuous_data)\n",
    "cont_labels = cont_scaler.feature_names_in_\n",
    "continuous_data.shape"
   ]
  },
  {
   "cell_type": "code",
   "execution_count": 6,
   "id": "256efedd",
   "metadata": {},
   "outputs": [
    {
     "name": "stdout",
     "output_type": "stream",
     "text": [
      "The features are shape (628620, 120) and the labels are shape (628620,).\n"
     ]
    }
   ],
   "source": [
    "# Preparing feature and label dataframes for analysis\n",
    "cat_df = pd.DataFrame.sparse.from_spmatrix(categorical_data,columns=cat_labels)\n",
    "cont_df = pd.DataFrame(data=continuous_data,columns=cont_labels)\n",
    "X_df = cat_df.join(cont_df)\n",
    "Y_df = modeling_df['re_any_90']\n",
    "print(f\"The features are shape {X_df.shape} and the labels are shape {Y_df.shape}.\")"
   ]
  },
  {
   "cell_type": "markdown",
   "id": "8241761b",
   "metadata": {},
   "source": [
    "We are going to build an automatic process to test several different ML classification algorithms on the observed data. For the purposes of this project, I have selected four different classification algorithms (i.e., logistic regression, naive bayes, gradient boosting, and random forest classification) using the scikit-learn package because these all scale relatively well to larger datasets. We are going to evaluate these classification algorithms using their F1 score because we care relatively equally about both precision (i.e., avoiding false positives; predicting readmission for those who were not readmitted) and recall (avoiding false negatives; failing to predict readmission for those who were actually readmitted). In a medical context, there are meaningful costs to both the hospital and patient care for both kinds of errors."
   ]
  },
  {
   "cell_type": "code",
   "execution_count": 7,
   "id": "f9e1e9c0",
   "metadata": {},
   "outputs": [],
   "source": [
    "# Creating training and testing sets\n",
    "X_train, X_test, y_train, y_test = train_test_split(X_df,Y_df,stratify=Y_df,test_size=0.15,random_state=12)\n",
    "# Identifying categorical features for mixed naive bayes and gradient boosting\n",
    "cat_features = np.array(range(0,112))"
   ]
  },
  {
   "cell_type": "code",
   "execution_count": 9,
   "id": "8d309bf9",
   "metadata": {},
   "outputs": [],
   "source": [
    "# Suppressing an annoying warning\n",
    "import warnings\n",
    "warnings.filterwarnings(\"ignore\", message=\"DataFrame with sparse columns found*\")"
   ]
  },
  {
   "cell_type": "code",
   "execution_count": 18,
   "id": "f3916a46",
   "metadata": {},
   "outputs": [
    {
     "name": "stdout",
     "output_type": "stream",
     "text": [
      "[2 2 2 2 2 2 2 2 2 2 2 2 2 2 2 2 2 2 2 2 2 2 2 2 2 2 2 2 2 2 2 2 2 2 2 2 2\n",
      " 2 2 2 2 2 2 2 2 2 2 2 2 2 2 2 2 2 2 2 2 2 2 2 2 2 2 2 2 2 2 2 2 2 2 2 2 2\n",
      " 2 2 2 2 2 2 2 2 2 2 2 2 2 2 2 2 2 2 2 2 2 2 2 2 2 2 2 2 2 2 2 2 2 2 2 2 2\n",
      " 2]\n",
      "The F1 score for logistic regression was 0.307949520008629.\n",
      "The F1 score for naive bayes was 0.08089030206677265.\n",
      "The F1 score for gradient boosting was 0.004258443465491923.\n",
      "The F1 score for random forest was 0.3044609665427509.\n"
     ]
    }
   ],
   "source": [
    "# Creating an automatic model testing process\n",
    "# Hyperparameters were adjusted to ensure convergence\n",
    "Classifiers = [\n",
    "    LogisticRegression(max_iter=250,C=0.01,class_weight='balanced',random_state=12,solver='sag'),\n",
    "    MixedNB(categorical_features=cat_features),\n",
    "    HistGradientBoostingClassifier(max_iter=500,learning_rate=0.2,max_depth=30,\n",
    "                                   categorical_features=cat_features,random_state=12),\n",
    "    RandomForestClassifier(max_depth=20,max_samples=0.5,class_weight='balanced',random_state=12)\n",
    "]\n",
    "prediction_number = 1\n",
    "prediction_df = pd.DataFrame()\n",
    "for classifier in Classifiers:\n",
    "    clf = classifier\n",
    "    clf.fit(X_train.values, y_train.values)\n",
    "    predictions = clf.predict(X_test.values)\n",
    "    prediction_df[\"yhat_%s\" %prediction_number] = predictions\n",
    "    prediction_number += 1   \n",
    "print(f\"The F1 score for logistic regression was {f1_score(y_test,prediction_df['yhat_1'])}.\")\n",
    "print(f\"The F1 score for naive bayes was {f1_score(y_test,prediction_df['yhat_2'])}.\")\n",
    "print(f\"The F1 score for gradient boosting was {f1_score(y_test,prediction_df['yhat_3'])}.\")\n",
    "print(f\"The F1 score for random forest was {f1_score(y_test,prediction_df['yhat_4'])}.\")"
   ]
  },
  {
   "cell_type": "code",
   "execution_count": 19,
   "id": "cac5ac19",
   "metadata": {},
   "outputs": [
    {
     "name": "stdout",
     "output_type": "stream",
     "text": [
      "The precision for logistic regression was 0.2036231367234862.\n",
      "The recall for logistic regression was 0.6314974563149746.\n",
      "The precision for naive bayes was 0.29417206290471787.\n",
      "The recall for naive bayes was 0.046892280468922805.\n",
      "The precision for gradient boosting was 0.5087719298245614.\n",
      "The recall for gradient boosting was 0.0021381700213817002.\n",
      "The precision for random forest was 0.2379134332074532.\n",
      "The recall for random forest was 0.42269409422694093.\n"
     ]
    }
   ],
   "source": [
    "print(f\"The precision for logistic regression was {precision_score(y_test,prediction_df['yhat_1'])}.\")\n",
    "print(f\"The recall for logistic regression was {recall_score(y_test,prediction_df['yhat_1'])}.\")\n",
    "print(f\"The precision for naive bayes was {precision_score(y_test,prediction_df['yhat_2'])}.\")\n",
    "print(f\"The recall for naive bayes was {recall_score(y_test,prediction_df['yhat_2'])}.\")\n",
    "print(f\"The precision for gradient boosting was {precision_score(y_test,prediction_df['yhat_3'])}.\")\n",
    "print(f\"The recall for gradient boosting was {recall_score(y_test,prediction_df['yhat_3'])}.\")\n",
    "print(f\"The precision for random forest was {precision_score(y_test,prediction_df['yhat_4'])}.\")\n",
    "print(f\"The recall for random forest was {recall_score(y_test,prediction_df['yhat_4'])}.\")"
   ]
  },
  {
   "cell_type": "markdown",
   "id": "753cd8a1",
   "metadata": {},
   "source": [
    "None of the models achieved an especially high f1 score, but logistic regression and random forest achieved the best results. A closer look at precision and recall revealed that logistic regression and random forest did a little better with recall, whereas naive bayes and gradient boosting did better with precision. This gave me the idea to ensemble these models together by averaging their class probabilities and then tuning the decision threshold to further improve performance; threshold-moving can substantially improve classification performance in imbalanced data."
   ]
  },
  {
   "cell_type": "code",
   "execution_count": 24,
   "id": "6683bd27",
   "metadata": {},
   "outputs": [
    {
     "name": "stdout",
     "output_type": "stream",
     "text": [
      "[2 2 2 2 2 2 2 2 2 2 2 2 2 2 2 2 2 2 2 2 2 2 2 2 2 2 2 2 2 2 2 2 2 2 2 2 2\n",
      " 2 2 2 2 2 2 2 2 2 2 2 2 2 2 2 2 2 2 2 2 2 2 2 2 2 2 2 2 2 2 2 2 2 2 2 2 2\n",
      " 2 2 2 2 2 2 2 2 2 2 2 2 2 2 2 2 2 2 2 2 2 2 2 2 2 2 2 2 2 2 2 2 2 2 2 2 2\n",
      " 2]\n"
     ]
    }
   ],
   "source": [
    "# Creating an ensemble of the different models.\n",
    "Classifiers = [\n",
    "    LogisticRegression(max_iter=250,C=0.01,class_weight='balanced',random_state=12,solver='sag'),\n",
    "    MixedNB(categorical_features=cat_features),\n",
    "    HistGradientBoostingClassifier(max_iter=500,learning_rate=0.2,max_depth=30,\n",
    "                                   categorical_features=cat_features,random_state=12),\n",
    "    RandomForestClassifier(max_depth=20,max_samples=0.5,class_weight='balanced',random_state=12)\n",
    "]\n",
    "prediction_number = 1\n",
    "prediction_df = pd.DataFrame()\n",
    "for classifier in Classifiers:\n",
    "    clf = classifier\n",
    "    clf.fit(X_train.values, y_train.values)\n",
    "    p_re = clf.predict_proba(X_test.values)[:,1]\n",
    "    prediction_df[\"prob_%s\" %prediction_number] = p_re\n",
    "    prediction_number += 1\n",
    "prediction_df['Probability'] = prediction_df.mean(axis=1)\n",
    "prediction_df['Actual'] = y_test.values"
   ]
  },
  {
   "cell_type": "code",
   "execution_count": 40,
   "id": "4536ceed",
   "metadata": {},
   "outputs": [
    {
     "name": "stdout",
     "output_type": "stream",
     "text": [
      "The Best Threshold = 0.279414, F1 Score = 0.322\n"
     ]
    },
    {
     "data": {
      "image/png": "[encoded data removed]",
      "text/plain": [
       "<Figure size 432x288 with 1 Axes>"
      ]
     },
     "metadata": {
      "needs_background": "light"
     },
     "output_type": "display_data"
    }
   ],
   "source": [
    "# Automatically finding the optimum decision threshold for the ensemble probabilities\n",
    "from numpy import argmax\n",
    "from sklearn.metrics import precision_recall_curve\n",
    "# Calculate precision-recall curve\n",
    "precision, recall, thresholds = precision_recall_curve(prediction_df.Actual, prediction_df.Probability)\n",
    "# Convert to F1 score\n",
    "fscore = (2 * precision * recall) / (precision + recall)\n",
    "# Locate the index of the largest F1 score\n",
    "ix = argmax(fscore)\n",
    "print('The Best Threshold = %f, F1 Score = %.3f' %(thresholds[ix], fscore[ix]))\n",
    "# Plot the precision-recall curve\n",
    "no_skill = len(prediction_df[prediction_df.Actual==1]) / len(prediction_df)\n",
    "plt.scatter(recall[ix], precision[ix], marker='o', color='black', label='Best', zorder=2.5, s=120)\n",
    "plt.plot([0,1], [no_skill,no_skill], linestyle='--', label='No Skill')\n",
    "plt.plot(recall, precision, marker='.', label='Ensemble')\n",
    "plt.xlabel('Recall')\n",
    "plt.ylabel('Precision')\n",
    "plt.legend()\n",
    "plt.show()"
   ]
  },
  {
   "cell_type": "markdown",
   "id": "a251e85c",
   "metadata": {},
   "source": [
    "Using an ensemble method and tuning the decision threshold only modestly improved the F1 score. This approach could perhaps be improved by weighting how we average the probability estimates (according to some metric like accuracy), running the probability estimates through another algorithm, or improving each of these models by tuning their hyperparameters. We are going to start by building a cross-validation process for automatically tuning the hyperparameters for one of these models, the random forest. "
   ]
  },
  {
   "cell_type": "code",
   "execution_count": 43,
   "id": "02df2f31",
   "metadata": {},
   "outputs": [
    {
     "name": "stdout",
     "output_type": "stream",
     "text": [
      "{'class_weight': ['balanced', None],\n",
      " 'max_depth': [10, 20, 30, 40, 50, 60, 70, 80, 90, 100],\n",
      " 'max_samples': [0.2, 0.3, 0.4, 0.5, 0.6, 0.7, 0.8, 0.9],\n",
      " 'min_samples_leaf': [1, 4],\n",
      " 'min_samples_split': [2, 8],\n",
      " 'n_estimators': [100, 200, 300, 400, 500, 600, 700, 800, 900, 1000]}\n"
     ]
    }
   ],
   "source": [
    "from sklearn.model_selection import RandomizedSearchCV\n",
    "from pprint import pprint\n",
    "# Creating a parameter grid for random forest\n",
    "n_estimators = [int(x) for x in np.linspace(100, 1000, num = 10)]\n",
    "max_depth = [int(x) for x in np.linspace(10, 100, num = 10)]\n",
    "min_samples_split = [2,8]\n",
    "min_samples_leaf = [1,4]\n",
    "class_weight = ['balanced',None]\n",
    "max_samples = [float(x) for x in np.linspace(0.2, 0.9, 8)]\n",
    "random_grid = {'n_estimators': n_estimators,\n",
    "               'max_depth': max_depth,\n",
    "               'min_samples_split': min_samples_split,\n",
    "               'min_samples_leaf': min_samples_leaf,\n",
    "               'class_weight': class_weight,\n",
    "               'max_samples': max_samples}\n",
    "pprint(random_grid)"
   ]
  },
  {
   "cell_type": "code",
   "execution_count": 45,
   "id": "62782290",
   "metadata": {},
   "outputs": [
    {
     "name": "stdout",
     "output_type": "stream",
     "text": [
      "Fitting 4 folds for each of 20 candidates, totalling 80 fits\n"
     ]
    },
    {
     "data": {
      "text/plain": [
       "{'n_estimators': 1000,\n",
       " 'min_samples_split': 2,\n",
       " 'min_samples_leaf': 1,\n",
       " 'max_samples': 0.3,\n",
       " 'max_depth': 10,\n",
       " 'class_weight': 'balanced'}"
      ]
     },
     "execution_count": 45,
     "metadata": {},
     "output_type": "execute_result"
    }
   ],
   "source": [
    "# Instantiate and fit the random search model\n",
    "rf_clf = RandomForestClassifier()\n",
    "rf_random = RandomizedSearchCV(estimator = rf_clf, param_distributions = random_grid, scoring = 'f1',\n",
    "                               n_iter = 20, cv = 4, verbose=2, random_state=12, n_jobs = -1)\n",
    "rf_random.fit(X_train.values, y_train.values)\n",
    "rf_random.best_params_"
   ]
  },
  {
   "cell_type": "code",
   "execution_count": 47,
   "id": "d6f64054",
   "metadata": {},
   "outputs": [
    {
     "name": "stdout",
     "output_type": "stream",
     "text": [
      "The F1 score for optimized random forest was 0.3093114582424295.\n",
      "The precision for optimized random forest was 0.20262050672276594.\n",
      "The recall for optimized random forest was 0.6533215365332153.\n"
     ]
    }
   ],
   "source": [
    "# Evaluating random forest model with tuned hyperparameters\n",
    "opt_predict = rf_random.predict(X_test.values)\n",
    "print(f\"The F1 score for optimized random forest was {f1_score(y_test,opt_predict)}.\")\n",
    "print(f\"The precision for optimized random forest was {precision_score(y_test,opt_predict)}.\")\n",
    "print(f\"The recall for optimized random forest was {recall_score(y_test,opt_predict)}.\")"
   ]
  },
  {
   "cell_type": "code",
   "execution_count": 11,
   "id": "694fe5dc",
   "metadata": {},
   "outputs": [
    {
     "name": "stdout",
     "output_type": "stream",
     "text": [
      "The F1 score for optimized random forest on training was 0.3197181710681908.\n",
      "The F1 score for optimized random forest on testing was 0.3089019840301266.\n",
      "The difference in these F1 scores is 0.010816187038064196.\n"
     ]
    }
   ],
   "source": [
    "# Checking how well the model generalized from train data to test data\n",
    "best_model = RandomForestClassifier(n_estimators=1000,min_samples_split=2,min_samples_leaf=1,max_samples=0.3,\n",
    "                                    max_depth=10,class_weight='balanced')\n",
    "best_model.fit(X_train.values,y_train.values)\n",
    "train_predict = best_model.predict(X_train.values)\n",
    "test_predict = best_model.predict(X_test.values)\n",
    "print(f\"The F1 score for optimized random forest on training was {f1_score(y_train,train_predict)}.\")\n",
    "print(f\"The F1 score for optimized random forest on testing was {f1_score(y_test,test_predict)}.\")\n",
    "print(f\"The difference in these F1 scores is {f1_score(y_train,train_predict) - f1_score(y_test,test_predict)}.\")"
   ]
  },
  {
   "cell_type": "markdown",
   "id": "591937ce",
   "metadata": {},
   "source": [
    "The F1 score of the random forest model did not markedly improve with hyperparameter tuning using random grid search. It appears that while recall improved, precision got a little worse, and so on the whole the F1 score was relatively stable. The model generalized well from training to testing, so this also does not appear to be an issue with overfitting the data. The endemic error in this problem may be too high to achieve both high precision and high recall. While both are medically relevant, perhaps we should prioritize recall because this ensures that we correctly predict readmission for most patients who are actually readmitted (and we therefore accept a higher false positive rate)."
   ]
  },
  {
   "cell_type": "code",
   "execution_count": 53,
   "id": "846143c6",
   "metadata": {
    "scrolled": true
   },
   "outputs": [],
   "source": [
    "# Refitting the random forest with tuned hyperparameters to get feature importances\n",
    "best_model = RandomForestClassifier(n_estimators=1000,min_samples_split=2,min_samples_leaf=1,max_samples=0.3,\n",
    "                                    max_depth=10,class_weight='balanced')\n",
    "best_model.fit(X_train.values,y_train.values)\n",
    "model_features_df = pd.DataFrame()\n",
    "model_features_df['Gini'] = best_model.feature_importances_\n",
    "model_features_df['Features'] = X_df.columns.values"
   ]
  },
  {
   "cell_type": "code",
   "execution_count": 55,
   "id": "39a17459",
   "metadata": {},
   "outputs": [
    {
     "data": {
      "image/png": "[encoded data removed]",
      "text/plain": [
       "<Figure size 432x288 with 1 Axes>"
      ]
     },
     "metadata": {
      "needs_background": "light"
     },
     "output_type": "display_data"
    }
   ],
   "source": [
    "# Identifying the most important features\n",
    "top_ten_features = model_features_df.sort_values(by='Gini')[:10]\n",
    "plt.barh(top_ten_features.Features, top_ten_features.Gini)\n",
    "plt.xlabel(\"Random Forest Feature Importance\")\n",
    "plt.show()"
   ]
  },
  {
   "cell_type": "markdown",
   "id": "8bc90f6d",
   "metadata": {},
   "source": [
    "A closer inspection of the feature importances from the tuned random forest model revealed that a cluster of 7 primary diagnoses and one secondary diagnosis type were the most important features. It is interesting that none of the other types of information--such as demographics, encounter characteristics, or hospital characteristics--were nearly as important for classifying readmission as diagnosis alone."
   ]
  }
 ],
 "metadata": {
  "kernelspec": {
   "display_name": "Python 3 (ipykernel)",
   "language": "python",
   "name": "python3"
  },
  "language_info": {
   "codemirror_mode": {
    "name": "ipython",
    "version": 3
   },
   "file_extension": ".py",
   "mimetype": "text/x-python",
   "name": "python",
   "nbconvert_exporter": "python",
   "pygments_lexer": "ipython3",
   "version": "3.9.7"
  }
 },
 "nbformat": 4,
 "nbformat_minor": 5
}
